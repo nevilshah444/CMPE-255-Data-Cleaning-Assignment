{
  "nbformat": 4,
  "nbformat_minor": 0,
  "metadata": {
    "colab": {
      "name": "CMPE_255_Assignment1.ipynb",
      "provenance": [],
      "collapsed_sections": [],
      "authorship_tag": "ABX9TyPqtHb8lb4e8uFWEJVGdnJM",
      "include_colab_link": true
    },
    "kernelspec": {
      "name": "python3",
      "display_name": "Python 3"
    },
    "language_info": {
      "name": "python"
    },
    "accelerator": "GPU"
  },
  "cells": [
    {
      "cell_type": "markdown",
      "metadata": {
        "id": "view-in-github",
        "colab_type": "text"
      },
      "source": [
        "<a href=\"https://colab.research.google.com/github/nevilshah444/CMPE-255-Data-Cleaning-Assignment/blob/main/CMPE_255_Assignment1.ipynb\" target=\"_parent\"><img src=\"https://colab.research.google.com/assets/colab-badge.svg\" alt=\"Open In Colab\"/></a>"
      ]
    },
    {
      "cell_type": "markdown",
      "metadata": {
        "id": "VPqfVTDj5X07"
      },
      "source": [
        "# Step  1 :- **Connecting this Google Colab to my Google Drive**"
      ]
    },
    {
      "cell_type": "code",
      "metadata": {
        "id": "lh3Bpaag4kGk",
        "colab": {
          "base_uri": "https://localhost:8080/"
        },
        "outputId": "6ab74c0a-174f-474b-a4a0-e12818cf5cc9"
      },
      "source": [
        "from google.colab import drive\n",
        "drive.mount('/content/gdrive')\n"
      ],
      "execution_count": 1,
      "outputs": [
        {
          "output_type": "stream",
          "name": "stdout",
          "text": [
            "Mounted at /content/gdrive\n"
          ]
        }
      ]
    },
    {
      "cell_type": "markdown",
      "metadata": {
        "id": "Gm9REe_T5pL-"
      },
      "source": [
        "# **Importing the necessary libraries**"
      ]
    },
    {
      "cell_type": "code",
      "metadata": {
        "id": "6q_Dm2zz5TTa"
      },
      "source": [
        "import pandas as pd\n",
        "import seaborn as sns\n",
        "import numpy as np\n",
        "import matplotlib.pyplot as plt\n",
        "\n",
        "from matplotlib import pyplot as plt\n",
        "sns.set()\n",
        "pd.set_option('display.max_columns',None)\n",
        "pd.set_option('display.max_rows',None)"
      ],
      "execution_count": 2,
      "outputs": []
    },
    {
      "cell_type": "markdown",
      "metadata": {
        "id": "X1gkxBfmDXbb"
      },
      "source": [
        "# **Importing the Dataset for further analysis**\n",
        "\n",
        "Let's have a glimpse of how the dataset looks like!! "
      ]
    },
    {
      "cell_type": "code",
      "metadata": {
        "colab": {
          "base_uri": "https://localhost:8080/",
          "height": 313
        },
        "id": "MoLiTAVd5xWm",
        "outputId": "b38deb99-a5d9-4551-ee68-afad293298df"
      },
      "source": [
        "Data = pd.read_csv('/content/gdrive/My Drive/dataset/hotel_bookings.csv')\n",
        "Data.head(5)"
      ],
      "execution_count": 3,
      "outputs": [
        {
          "output_type": "execute_result",
          "data": {
            "text/html": [
              "<div>\n",
              "<style scoped>\n",
              "    .dataframe tbody tr th:only-of-type {\n",
              "        vertical-align: middle;\n",
              "    }\n",
              "\n",
              "    .dataframe tbody tr th {\n",
              "        vertical-align: top;\n",
              "    }\n",
              "\n",
              "    .dataframe thead th {\n",
              "        text-align: right;\n",
              "    }\n",
              "</style>\n",
              "<table border=\"1\" class=\"dataframe\">\n",
              "  <thead>\n",
              "    <tr style=\"text-align: right;\">\n",
              "      <th></th>\n",
              "      <th>hotel</th>\n",
              "      <th>is_canceled</th>\n",
              "      <th>lead_time</th>\n",
              "      <th>arrival_date_year</th>\n",
              "      <th>arrival_date_month</th>\n",
              "      <th>arrival_date_week_number</th>\n",
              "      <th>arrival_date_day_of_month</th>\n",
              "      <th>stays_in_weekend_nights</th>\n",
              "      <th>stays_in_week_nights</th>\n",
              "      <th>adults</th>\n",
              "      <th>children</th>\n",
              "      <th>babies</th>\n",
              "      <th>meal</th>\n",
              "      <th>country</th>\n",
              "      <th>market_segment</th>\n",
              "      <th>distribution_channel</th>\n",
              "      <th>is_repeated_guest</th>\n",
              "      <th>previous_cancellations</th>\n",
              "      <th>previous_bookings_not_canceled</th>\n",
              "      <th>reserved_room_type</th>\n",
              "      <th>assigned_room_type</th>\n",
              "      <th>booking_changes</th>\n",
              "      <th>deposit_type</th>\n",
              "      <th>agent</th>\n",
              "      <th>company</th>\n",
              "      <th>days_in_waiting_list</th>\n",
              "      <th>customer_type</th>\n",
              "      <th>adr</th>\n",
              "      <th>required_car_parking_spaces</th>\n",
              "      <th>total_of_special_requests</th>\n",
              "      <th>reservation_status</th>\n",
              "      <th>reservation_status_date</th>\n",
              "    </tr>\n",
              "  </thead>\n",
              "  <tbody>\n",
              "    <tr>\n",
              "      <th>0</th>\n",
              "      <td>Resort Hotel</td>\n",
              "      <td>0</td>\n",
              "      <td>342</td>\n",
              "      <td>2015</td>\n",
              "      <td>July</td>\n",
              "      <td>27</td>\n",
              "      <td>1</td>\n",
              "      <td>0</td>\n",
              "      <td>0</td>\n",
              "      <td>2</td>\n",
              "      <td>0.0</td>\n",
              "      <td>0</td>\n",
              "      <td>BB</td>\n",
              "      <td>PRT</td>\n",
              "      <td>Direct</td>\n",
              "      <td>Direct</td>\n",
              "      <td>0</td>\n",
              "      <td>0</td>\n",
              "      <td>0</td>\n",
              "      <td>C</td>\n",
              "      <td>C</td>\n",
              "      <td>3</td>\n",
              "      <td>No Deposit</td>\n",
              "      <td>NaN</td>\n",
              "      <td>NaN</td>\n",
              "      <td>0</td>\n",
              "      <td>Transient</td>\n",
              "      <td>0.0</td>\n",
              "      <td>0</td>\n",
              "      <td>0</td>\n",
              "      <td>Check-Out</td>\n",
              "      <td>2015-07-01</td>\n",
              "    </tr>\n",
              "    <tr>\n",
              "      <th>1</th>\n",
              "      <td>Resort Hotel</td>\n",
              "      <td>0</td>\n",
              "      <td>737</td>\n",
              "      <td>2015</td>\n",
              "      <td>July</td>\n",
              "      <td>27</td>\n",
              "      <td>1</td>\n",
              "      <td>0</td>\n",
              "      <td>0</td>\n",
              "      <td>2</td>\n",
              "      <td>0.0</td>\n",
              "      <td>0</td>\n",
              "      <td>BB</td>\n",
              "      <td>PRT</td>\n",
              "      <td>Direct</td>\n",
              "      <td>Direct</td>\n",
              "      <td>0</td>\n",
              "      <td>0</td>\n",
              "      <td>0</td>\n",
              "      <td>C</td>\n",
              "      <td>C</td>\n",
              "      <td>4</td>\n",
              "      <td>No Deposit</td>\n",
              "      <td>NaN</td>\n",
              "      <td>NaN</td>\n",
              "      <td>0</td>\n",
              "      <td>Transient</td>\n",
              "      <td>0.0</td>\n",
              "      <td>0</td>\n",
              "      <td>0</td>\n",
              "      <td>Check-Out</td>\n",
              "      <td>2015-07-01</td>\n",
              "    </tr>\n",
              "    <tr>\n",
              "      <th>2</th>\n",
              "      <td>Resort Hotel</td>\n",
              "      <td>0</td>\n",
              "      <td>7</td>\n",
              "      <td>2015</td>\n",
              "      <td>July</td>\n",
              "      <td>27</td>\n",
              "      <td>1</td>\n",
              "      <td>0</td>\n",
              "      <td>1</td>\n",
              "      <td>1</td>\n",
              "      <td>0.0</td>\n",
              "      <td>0</td>\n",
              "      <td>BB</td>\n",
              "      <td>GBR</td>\n",
              "      <td>Direct</td>\n",
              "      <td>Direct</td>\n",
              "      <td>0</td>\n",
              "      <td>0</td>\n",
              "      <td>0</td>\n",
              "      <td>A</td>\n",
              "      <td>C</td>\n",
              "      <td>0</td>\n",
              "      <td>No Deposit</td>\n",
              "      <td>NaN</td>\n",
              "      <td>NaN</td>\n",
              "      <td>0</td>\n",
              "      <td>Transient</td>\n",
              "      <td>75.0</td>\n",
              "      <td>0</td>\n",
              "      <td>0</td>\n",
              "      <td>Check-Out</td>\n",
              "      <td>2015-07-02</td>\n",
              "    </tr>\n",
              "    <tr>\n",
              "      <th>3</th>\n",
              "      <td>Resort Hotel</td>\n",
              "      <td>0</td>\n",
              "      <td>13</td>\n",
              "      <td>2015</td>\n",
              "      <td>July</td>\n",
              "      <td>27</td>\n",
              "      <td>1</td>\n",
              "      <td>0</td>\n",
              "      <td>1</td>\n",
              "      <td>1</td>\n",
              "      <td>0.0</td>\n",
              "      <td>0</td>\n",
              "      <td>BB</td>\n",
              "      <td>GBR</td>\n",
              "      <td>Corporate</td>\n",
              "      <td>Corporate</td>\n",
              "      <td>0</td>\n",
              "      <td>0</td>\n",
              "      <td>0</td>\n",
              "      <td>A</td>\n",
              "      <td>A</td>\n",
              "      <td>0</td>\n",
              "      <td>No Deposit</td>\n",
              "      <td>304.0</td>\n",
              "      <td>NaN</td>\n",
              "      <td>0</td>\n",
              "      <td>Transient</td>\n",
              "      <td>75.0</td>\n",
              "      <td>0</td>\n",
              "      <td>0</td>\n",
              "      <td>Check-Out</td>\n",
              "      <td>2015-07-02</td>\n",
              "    </tr>\n",
              "    <tr>\n",
              "      <th>4</th>\n",
              "      <td>Resort Hotel</td>\n",
              "      <td>0</td>\n",
              "      <td>14</td>\n",
              "      <td>2015</td>\n",
              "      <td>July</td>\n",
              "      <td>27</td>\n",
              "      <td>1</td>\n",
              "      <td>0</td>\n",
              "      <td>2</td>\n",
              "      <td>2</td>\n",
              "      <td>0.0</td>\n",
              "      <td>0</td>\n",
              "      <td>BB</td>\n",
              "      <td>GBR</td>\n",
              "      <td>Online TA</td>\n",
              "      <td>TA/TO</td>\n",
              "      <td>0</td>\n",
              "      <td>0</td>\n",
              "      <td>0</td>\n",
              "      <td>A</td>\n",
              "      <td>A</td>\n",
              "      <td>0</td>\n",
              "      <td>No Deposit</td>\n",
              "      <td>240.0</td>\n",
              "      <td>NaN</td>\n",
              "      <td>0</td>\n",
              "      <td>Transient</td>\n",
              "      <td>98.0</td>\n",
              "      <td>0</td>\n",
              "      <td>1</td>\n",
              "      <td>Check-Out</td>\n",
              "      <td>2015-07-03</td>\n",
              "    </tr>\n",
              "  </tbody>\n",
              "</table>\n",
              "</div>"
            ],
            "text/plain": [
              "          hotel  is_canceled  lead_time  arrival_date_year arrival_date_month  \\\n",
              "0  Resort Hotel            0        342               2015               July   \n",
              "1  Resort Hotel            0        737               2015               July   \n",
              "2  Resort Hotel            0          7               2015               July   \n",
              "3  Resort Hotel            0         13               2015               July   \n",
              "4  Resort Hotel            0         14               2015               July   \n",
              "\n",
              "   arrival_date_week_number  arrival_date_day_of_month  \\\n",
              "0                        27                          1   \n",
              "1                        27                          1   \n",
              "2                        27                          1   \n",
              "3                        27                          1   \n",
              "4                        27                          1   \n",
              "\n",
              "   stays_in_weekend_nights  stays_in_week_nights  adults  children  babies  \\\n",
              "0                        0                     0       2       0.0       0   \n",
              "1                        0                     0       2       0.0       0   \n",
              "2                        0                     1       1       0.0       0   \n",
              "3                        0                     1       1       0.0       0   \n",
              "4                        0                     2       2       0.0       0   \n",
              "\n",
              "  meal country market_segment distribution_channel  is_repeated_guest  \\\n",
              "0   BB     PRT         Direct               Direct                  0   \n",
              "1   BB     PRT         Direct               Direct                  0   \n",
              "2   BB     GBR         Direct               Direct                  0   \n",
              "3   BB     GBR      Corporate            Corporate                  0   \n",
              "4   BB     GBR      Online TA                TA/TO                  0   \n",
              "\n",
              "   previous_cancellations  previous_bookings_not_canceled reserved_room_type  \\\n",
              "0                       0                               0                  C   \n",
              "1                       0                               0                  C   \n",
              "2                       0                               0                  A   \n",
              "3                       0                               0                  A   \n",
              "4                       0                               0                  A   \n",
              "\n",
              "  assigned_room_type  booking_changes deposit_type  agent  company  \\\n",
              "0                  C                3   No Deposit    NaN      NaN   \n",
              "1                  C                4   No Deposit    NaN      NaN   \n",
              "2                  C                0   No Deposit    NaN      NaN   \n",
              "3                  A                0   No Deposit  304.0      NaN   \n",
              "4                  A                0   No Deposit  240.0      NaN   \n",
              "\n",
              "   days_in_waiting_list customer_type   adr  required_car_parking_spaces  \\\n",
              "0                     0     Transient   0.0                            0   \n",
              "1                     0     Transient   0.0                            0   \n",
              "2                     0     Transient  75.0                            0   \n",
              "3                     0     Transient  75.0                            0   \n",
              "4                     0     Transient  98.0                            0   \n",
              "\n",
              "   total_of_special_requests reservation_status reservation_status_date  \n",
              "0                          0          Check-Out              2015-07-01  \n",
              "1                          0          Check-Out              2015-07-01  \n",
              "2                          0          Check-Out              2015-07-02  \n",
              "3                          0          Check-Out              2015-07-02  \n",
              "4                          1          Check-Out              2015-07-03  "
            ]
          },
          "metadata": {},
          "execution_count": 3
        }
      ]
    },
    {
      "cell_type": "code",
      "metadata": {
        "colab": {
          "base_uri": "https://localhost:8080/"
        },
        "id": "Y8RbabFjD7kc",
        "outputId": "43f26bd2-a31e-4dfc-9d84-8402d2bfdbd8"
      },
      "source": [
        "Data.shape #returns the number of rows and columns of the dataset"
      ],
      "execution_count": 4,
      "outputs": [
        {
          "output_type": "execute_result",
          "data": {
            "text/plain": [
              "(119390, 32)"
            ]
          },
          "metadata": {},
          "execution_count": 4
        }
      ]
    },
    {
      "cell_type": "code",
      "metadata": {
        "colab": {
          "base_uri": "https://localhost:8080/"
        },
        "id": "K1ZWj6QmEq6z",
        "outputId": "3044df75-bcde-43ac-fb70-7bbe2af5ed44"
      },
      "source": [
        "#Lets take a look at the name of the columns in this dataset\n",
        "Data.columns"
      ],
      "execution_count": 5,
      "outputs": [
        {
          "output_type": "execute_result",
          "data": {
            "text/plain": [
              "Index(['hotel', 'is_canceled', 'lead_time', 'arrival_date_year',\n",
              "       'arrival_date_month', 'arrival_date_week_number',\n",
              "       'arrival_date_day_of_month', 'stays_in_weekend_nights',\n",
              "       'stays_in_week_nights', 'adults', 'children', 'babies', 'meal',\n",
              "       'country', 'market_segment', 'distribution_channel',\n",
              "       'is_repeated_guest', 'previous_cancellations',\n",
              "       'previous_bookings_not_canceled', 'reserved_room_type',\n",
              "       'assigned_room_type', 'booking_changes', 'deposit_type', 'agent',\n",
              "       'company', 'days_in_waiting_list', 'customer_type', 'adr',\n",
              "       'required_car_parking_spaces', 'total_of_special_requests',\n",
              "       'reservation_status', 'reservation_status_date'],\n",
              "      dtype='object')"
            ]
          },
          "metadata": {},
          "execution_count": 5
        }
      ]
    },
    {
      "cell_type": "code",
      "metadata": {
        "id": "OkwM53POErCl"
      },
      "source": [
        "#the Columns name are a bit complex and confusing. Let's  change the name of all the columns.\n",
        "Data.columns = ['Name', 'Canceled', 'LeadTime', 'ArrivalYear', 'ArrivalMonth', 'ArrivalWeek','ArrivingDay', 'WeekendStays',\n",
        "              'WeekdayStays', 'Adults', 'Children', 'Babies', 'Meal','Country', 'Segment', 'Distribution_Channel','RepeatGuest', 'PreviousCancel',\n",
        "              'PreviousBook', 'Booked_RoomType','Assigned_RoomType', 'ChangedBooking', 'DepositType','agent', 'company', 'WaitingDays', 'CustomerType', 'ADR','ParkingSpace', 'SpecialRequests',\n",
        "              'Status', 'ReservationDate']"
      ],
      "execution_count": 6,
      "outputs": []
    },
    {
      "cell_type": "code",
      "metadata": {
        "colab": {
          "base_uri": "https://localhost:8080/"
        },
        "id": "IGZH82WGE-E2",
        "outputId": "b99f9910-11cf-40da-ae9a-053f8806ba3c"
      },
      "source": [
        "Data.dtypes #returns the datatype of each  and every column"
      ],
      "execution_count": 7,
      "outputs": [
        {
          "output_type": "execute_result",
          "data": {
            "text/plain": [
              "Name                     object\n",
              "Canceled                  int64\n",
              "LeadTime                  int64\n",
              "ArrivalYear               int64\n",
              "ArrivalMonth             object\n",
              "ArrivalWeek               int64\n",
              "ArrivingDay               int64\n",
              "WeekendStays              int64\n",
              "WeekdayStays              int64\n",
              "Adults                    int64\n",
              "Children                float64\n",
              "Babies                    int64\n",
              "Meal                     object\n",
              "Country                  object\n",
              "Segment                  object\n",
              "Distribution_Channel     object\n",
              "RepeatGuest               int64\n",
              "PreviousCancel            int64\n",
              "PreviousBook              int64\n",
              "Booked_RoomType          object\n",
              "Assigned_RoomType        object\n",
              "ChangedBooking            int64\n",
              "DepositType              object\n",
              "agent                   float64\n",
              "company                 float64\n",
              "WaitingDays               int64\n",
              "CustomerType             object\n",
              "ADR                     float64\n",
              "ParkingSpace              int64\n",
              "SpecialRequests           int64\n",
              "Status                   object\n",
              "ReservationDate          object\n",
              "dtype: object"
            ]
          },
          "metadata": {},
          "execution_count": 7
        }
      ]
    },
    {
      "cell_type": "code",
      "metadata": {
        "id": "0l0Nxz8oGMs_",
        "colab": {
          "base_uri": "https://localhost:8080/",
          "height": 320
        },
        "outputId": "1d3ff579-17a4-4424-8e2c-46ace0b04023"
      },
      "source": [
        "#Lets look at some of the Statistics of the columns in this dataset\n",
        "Data.describe()"
      ],
      "execution_count": 8,
      "outputs": [
        {
          "output_type": "execute_result",
          "data": {
            "text/html": [
              "<div>\n",
              "<style scoped>\n",
              "    .dataframe tbody tr th:only-of-type {\n",
              "        vertical-align: middle;\n",
              "    }\n",
              "\n",
              "    .dataframe tbody tr th {\n",
              "        vertical-align: top;\n",
              "    }\n",
              "\n",
              "    .dataframe thead th {\n",
              "        text-align: right;\n",
              "    }\n",
              "</style>\n",
              "<table border=\"1\" class=\"dataframe\">\n",
              "  <thead>\n",
              "    <tr style=\"text-align: right;\">\n",
              "      <th></th>\n",
              "      <th>Canceled</th>\n",
              "      <th>LeadTime</th>\n",
              "      <th>ArrivalYear</th>\n",
              "      <th>ArrivalWeek</th>\n",
              "      <th>ArrivingDay</th>\n",
              "      <th>WeekendStays</th>\n",
              "      <th>WeekdayStays</th>\n",
              "      <th>Adults</th>\n",
              "      <th>Children</th>\n",
              "      <th>Babies</th>\n",
              "      <th>RepeatGuest</th>\n",
              "      <th>PreviousCancel</th>\n",
              "      <th>PreviousBook</th>\n",
              "      <th>ChangedBooking</th>\n",
              "      <th>agent</th>\n",
              "      <th>company</th>\n",
              "      <th>WaitingDays</th>\n",
              "      <th>ADR</th>\n",
              "      <th>ParkingSpace</th>\n",
              "      <th>SpecialRequests</th>\n",
              "    </tr>\n",
              "  </thead>\n",
              "  <tbody>\n",
              "    <tr>\n",
              "      <th>count</th>\n",
              "      <td>119390.000000</td>\n",
              "      <td>119390.000000</td>\n",
              "      <td>119390.000000</td>\n",
              "      <td>119390.000000</td>\n",
              "      <td>119390.000000</td>\n",
              "      <td>119390.000000</td>\n",
              "      <td>119390.000000</td>\n",
              "      <td>119390.000000</td>\n",
              "      <td>119386.000000</td>\n",
              "      <td>119390.000000</td>\n",
              "      <td>119390.000000</td>\n",
              "      <td>119390.000000</td>\n",
              "      <td>119390.000000</td>\n",
              "      <td>119390.000000</td>\n",
              "      <td>103050.000000</td>\n",
              "      <td>6797.000000</td>\n",
              "      <td>119390.000000</td>\n",
              "      <td>119390.000000</td>\n",
              "      <td>119390.000000</td>\n",
              "      <td>119390.000000</td>\n",
              "    </tr>\n",
              "    <tr>\n",
              "      <th>mean</th>\n",
              "      <td>0.370416</td>\n",
              "      <td>104.011416</td>\n",
              "      <td>2016.156554</td>\n",
              "      <td>27.165173</td>\n",
              "      <td>15.798241</td>\n",
              "      <td>0.927599</td>\n",
              "      <td>2.500302</td>\n",
              "      <td>1.856403</td>\n",
              "      <td>0.103890</td>\n",
              "      <td>0.007949</td>\n",
              "      <td>0.031912</td>\n",
              "      <td>0.087118</td>\n",
              "      <td>0.137097</td>\n",
              "      <td>0.221124</td>\n",
              "      <td>86.693382</td>\n",
              "      <td>189.266735</td>\n",
              "      <td>2.321149</td>\n",
              "      <td>101.831122</td>\n",
              "      <td>0.062518</td>\n",
              "      <td>0.571363</td>\n",
              "    </tr>\n",
              "    <tr>\n",
              "      <th>std</th>\n",
              "      <td>0.482918</td>\n",
              "      <td>106.863097</td>\n",
              "      <td>0.707476</td>\n",
              "      <td>13.605138</td>\n",
              "      <td>8.780829</td>\n",
              "      <td>0.998613</td>\n",
              "      <td>1.908286</td>\n",
              "      <td>0.579261</td>\n",
              "      <td>0.398561</td>\n",
              "      <td>0.097436</td>\n",
              "      <td>0.175767</td>\n",
              "      <td>0.844336</td>\n",
              "      <td>1.497437</td>\n",
              "      <td>0.652306</td>\n",
              "      <td>110.774548</td>\n",
              "      <td>131.655015</td>\n",
              "      <td>17.594721</td>\n",
              "      <td>50.535790</td>\n",
              "      <td>0.245291</td>\n",
              "      <td>0.792798</td>\n",
              "    </tr>\n",
              "    <tr>\n",
              "      <th>min</th>\n",
              "      <td>0.000000</td>\n",
              "      <td>0.000000</td>\n",
              "      <td>2015.000000</td>\n",
              "      <td>1.000000</td>\n",
              "      <td>1.000000</td>\n",
              "      <td>0.000000</td>\n",
              "      <td>0.000000</td>\n",
              "      <td>0.000000</td>\n",
              "      <td>0.000000</td>\n",
              "      <td>0.000000</td>\n",
              "      <td>0.000000</td>\n",
              "      <td>0.000000</td>\n",
              "      <td>0.000000</td>\n",
              "      <td>0.000000</td>\n",
              "      <td>1.000000</td>\n",
              "      <td>6.000000</td>\n",
              "      <td>0.000000</td>\n",
              "      <td>-6.380000</td>\n",
              "      <td>0.000000</td>\n",
              "      <td>0.000000</td>\n",
              "    </tr>\n",
              "    <tr>\n",
              "      <th>25%</th>\n",
              "      <td>0.000000</td>\n",
              "      <td>18.000000</td>\n",
              "      <td>2016.000000</td>\n",
              "      <td>16.000000</td>\n",
              "      <td>8.000000</td>\n",
              "      <td>0.000000</td>\n",
              "      <td>1.000000</td>\n",
              "      <td>2.000000</td>\n",
              "      <td>0.000000</td>\n",
              "      <td>0.000000</td>\n",
              "      <td>0.000000</td>\n",
              "      <td>0.000000</td>\n",
              "      <td>0.000000</td>\n",
              "      <td>0.000000</td>\n",
              "      <td>9.000000</td>\n",
              "      <td>62.000000</td>\n",
              "      <td>0.000000</td>\n",
              "      <td>69.290000</td>\n",
              "      <td>0.000000</td>\n",
              "      <td>0.000000</td>\n",
              "    </tr>\n",
              "    <tr>\n",
              "      <th>50%</th>\n",
              "      <td>0.000000</td>\n",
              "      <td>69.000000</td>\n",
              "      <td>2016.000000</td>\n",
              "      <td>28.000000</td>\n",
              "      <td>16.000000</td>\n",
              "      <td>1.000000</td>\n",
              "      <td>2.000000</td>\n",
              "      <td>2.000000</td>\n",
              "      <td>0.000000</td>\n",
              "      <td>0.000000</td>\n",
              "      <td>0.000000</td>\n",
              "      <td>0.000000</td>\n",
              "      <td>0.000000</td>\n",
              "      <td>0.000000</td>\n",
              "      <td>14.000000</td>\n",
              "      <td>179.000000</td>\n",
              "      <td>0.000000</td>\n",
              "      <td>94.575000</td>\n",
              "      <td>0.000000</td>\n",
              "      <td>0.000000</td>\n",
              "    </tr>\n",
              "    <tr>\n",
              "      <th>75%</th>\n",
              "      <td>1.000000</td>\n",
              "      <td>160.000000</td>\n",
              "      <td>2017.000000</td>\n",
              "      <td>38.000000</td>\n",
              "      <td>23.000000</td>\n",
              "      <td>2.000000</td>\n",
              "      <td>3.000000</td>\n",
              "      <td>2.000000</td>\n",
              "      <td>0.000000</td>\n",
              "      <td>0.000000</td>\n",
              "      <td>0.000000</td>\n",
              "      <td>0.000000</td>\n",
              "      <td>0.000000</td>\n",
              "      <td>0.000000</td>\n",
              "      <td>229.000000</td>\n",
              "      <td>270.000000</td>\n",
              "      <td>0.000000</td>\n",
              "      <td>126.000000</td>\n",
              "      <td>0.000000</td>\n",
              "      <td>1.000000</td>\n",
              "    </tr>\n",
              "    <tr>\n",
              "      <th>max</th>\n",
              "      <td>1.000000</td>\n",
              "      <td>737.000000</td>\n",
              "      <td>2017.000000</td>\n",
              "      <td>53.000000</td>\n",
              "      <td>31.000000</td>\n",
              "      <td>19.000000</td>\n",
              "      <td>50.000000</td>\n",
              "      <td>55.000000</td>\n",
              "      <td>10.000000</td>\n",
              "      <td>10.000000</td>\n",
              "      <td>1.000000</td>\n",
              "      <td>26.000000</td>\n",
              "      <td>72.000000</td>\n",
              "      <td>21.000000</td>\n",
              "      <td>535.000000</td>\n",
              "      <td>543.000000</td>\n",
              "      <td>391.000000</td>\n",
              "      <td>5400.000000</td>\n",
              "      <td>8.000000</td>\n",
              "      <td>5.000000</td>\n",
              "    </tr>\n",
              "  </tbody>\n",
              "</table>\n",
              "</div>"
            ],
            "text/plain": [
              "            Canceled       LeadTime    ArrivalYear    ArrivalWeek  \\\n",
              "count  119390.000000  119390.000000  119390.000000  119390.000000   \n",
              "mean        0.370416     104.011416    2016.156554      27.165173   \n",
              "std         0.482918     106.863097       0.707476      13.605138   \n",
              "min         0.000000       0.000000    2015.000000       1.000000   \n",
              "25%         0.000000      18.000000    2016.000000      16.000000   \n",
              "50%         0.000000      69.000000    2016.000000      28.000000   \n",
              "75%         1.000000     160.000000    2017.000000      38.000000   \n",
              "max         1.000000     737.000000    2017.000000      53.000000   \n",
              "\n",
              "         ArrivingDay   WeekendStays   WeekdayStays         Adults  \\\n",
              "count  119390.000000  119390.000000  119390.000000  119390.000000   \n",
              "mean       15.798241       0.927599       2.500302       1.856403   \n",
              "std         8.780829       0.998613       1.908286       0.579261   \n",
              "min         1.000000       0.000000       0.000000       0.000000   \n",
              "25%         8.000000       0.000000       1.000000       2.000000   \n",
              "50%        16.000000       1.000000       2.000000       2.000000   \n",
              "75%        23.000000       2.000000       3.000000       2.000000   \n",
              "max        31.000000      19.000000      50.000000      55.000000   \n",
              "\n",
              "            Children         Babies    RepeatGuest  PreviousCancel  \\\n",
              "count  119386.000000  119390.000000  119390.000000   119390.000000   \n",
              "mean        0.103890       0.007949       0.031912        0.087118   \n",
              "std         0.398561       0.097436       0.175767        0.844336   \n",
              "min         0.000000       0.000000       0.000000        0.000000   \n",
              "25%         0.000000       0.000000       0.000000        0.000000   \n",
              "50%         0.000000       0.000000       0.000000        0.000000   \n",
              "75%         0.000000       0.000000       0.000000        0.000000   \n",
              "max        10.000000      10.000000       1.000000       26.000000   \n",
              "\n",
              "        PreviousBook  ChangedBooking          agent      company  \\\n",
              "count  119390.000000   119390.000000  103050.000000  6797.000000   \n",
              "mean        0.137097        0.221124      86.693382   189.266735   \n",
              "std         1.497437        0.652306     110.774548   131.655015   \n",
              "min         0.000000        0.000000       1.000000     6.000000   \n",
              "25%         0.000000        0.000000       9.000000    62.000000   \n",
              "50%         0.000000        0.000000      14.000000   179.000000   \n",
              "75%         0.000000        0.000000     229.000000   270.000000   \n",
              "max        72.000000       21.000000     535.000000   543.000000   \n",
              "\n",
              "         WaitingDays            ADR   ParkingSpace  SpecialRequests  \n",
              "count  119390.000000  119390.000000  119390.000000    119390.000000  \n",
              "mean        2.321149     101.831122       0.062518         0.571363  \n",
              "std        17.594721      50.535790       0.245291         0.792798  \n",
              "min         0.000000      -6.380000       0.000000         0.000000  \n",
              "25%         0.000000      69.290000       0.000000         0.000000  \n",
              "50%         0.000000      94.575000       0.000000         0.000000  \n",
              "75%         0.000000     126.000000       0.000000         1.000000  \n",
              "max       391.000000    5400.000000       8.000000         5.000000  "
            ]
          },
          "metadata": {},
          "execution_count": 8
        }
      ]
    },
    {
      "cell_type": "markdown",
      "metadata": {
        "id": "_fnpj5IlGUaY"
      },
      "source": [
        "#                                       **Data Cleaning:Handling NA values**\n",
        "There are multiple ways to clean the data in a dataset:\n",
        "\n",
        "1)Dropping the missing data(if dropping the values does not impact the data)\n",
        "\n",
        "2)Replacing the missing values with statistical measures (mean, sum, median,etc)\n",
        "\n",
        "3)Using the forward or Backward fill methods to fill the missing values\n",
        "\n",
        "4)Imputing with more complex machine learning methods "
      ]
    },
    {
      "cell_type": "code",
      "metadata": {
        "colab": {
          "base_uri": "https://localhost:8080/"
        },
        "id": "sNhFsYJpGTg0",
        "outputId": "4cdd2053-d7c0-4585-9eba-9b4de0be88e0"
      },
      "source": [
        "#lets take a look over the number of null (NA) values in each column\n",
        "Data.isna().sum()"
      ],
      "execution_count": 9,
      "outputs": [
        {
          "output_type": "execute_result",
          "data": {
            "text/plain": [
              "Name                         0\n",
              "Canceled                     0\n",
              "LeadTime                     0\n",
              "ArrivalYear                  0\n",
              "ArrivalMonth                 0\n",
              "ArrivalWeek                  0\n",
              "ArrivingDay                  0\n",
              "WeekendStays                 0\n",
              "WeekdayStays                 0\n",
              "Adults                       0\n",
              "Children                     4\n",
              "Babies                       0\n",
              "Meal                         0\n",
              "Country                    488\n",
              "Segment                      0\n",
              "Distribution_Channel         0\n",
              "RepeatGuest                  0\n",
              "PreviousCancel               0\n",
              "PreviousBook                 0\n",
              "Booked_RoomType              0\n",
              "Assigned_RoomType            0\n",
              "ChangedBooking               0\n",
              "DepositType                  0\n",
              "agent                    16340\n",
              "company                 112593\n",
              "WaitingDays                  0\n",
              "CustomerType                 0\n",
              "ADR                          0\n",
              "ParkingSpace                 0\n",
              "SpecialRequests              0\n",
              "Status                       0\n",
              "ReservationDate              0\n",
              "dtype: int64"
            ]
          },
          "metadata": {},
          "execution_count": 9
        }
      ]
    },
    {
      "cell_type": "code",
      "metadata": {
        "colab": {
          "base_uri": "https://localhost:8080/"
        },
        "id": "nCmVgTfQJOt-",
        "outputId": "731bb35b-6b72-4e23-8a4c-5c4bc720be74"
      },
      "source": [
        "#Calculating the percentage of null values in each dataset\n",
        "print(round(100*(Data.isnull().sum()/len(Data.index)),5))\n",
        "#round upto 5 decimal points"
      ],
      "execution_count": 10,
      "outputs": [
        {
          "output_type": "stream",
          "name": "stdout",
          "text": [
            "Name                     0.00000\n",
            "Canceled                 0.00000\n",
            "LeadTime                 0.00000\n",
            "ArrivalYear              0.00000\n",
            "ArrivalMonth             0.00000\n",
            "ArrivalWeek              0.00000\n",
            "ArrivingDay              0.00000\n",
            "WeekendStays             0.00000\n",
            "WeekdayStays             0.00000\n",
            "Adults                   0.00000\n",
            "Children                 0.00335\n",
            "Babies                   0.00000\n",
            "Meal                     0.00000\n",
            "Country                  0.40874\n",
            "Segment                  0.00000\n",
            "Distribution_Channel     0.00000\n",
            "RepeatGuest              0.00000\n",
            "PreviousCancel           0.00000\n",
            "PreviousBook             0.00000\n",
            "Booked_RoomType          0.00000\n",
            "Assigned_RoomType        0.00000\n",
            "ChangedBooking           0.00000\n",
            "DepositType              0.00000\n",
            "agent                   13.68624\n",
            "company                 94.30689\n",
            "WaitingDays              0.00000\n",
            "CustomerType             0.00000\n",
            "ADR                      0.00000\n",
            "ParkingSpace             0.00000\n",
            "SpecialRequests          0.00000\n",
            "Status                   0.00000\n",
            "ReservationDate          0.00000\n",
            "dtype: float64\n"
          ]
        }
      ]
    },
    {
      "cell_type": "markdown",
      "metadata": {
        "id": "FySL-ZeeJax6"
      },
      "source": [
        "Conclusion:-\n",
        "\n",
        "The Columns named 'Company' and 'Agent' have the most number of missing values with 94.3% and 13.68% respectively. \n",
        "\n",
        "Additionally, the columns 'Children ' and 'Country ' have a few missing values.\n",
        "\n",
        "Lets Start with data cleaning !!"
      ]
    },
    {
      "cell_type": "code",
      "metadata": {
        "id": "2jlb_QGJLG_h"
      },
      "source": [
        "Data = Data.drop(['company'], axis = 1) # Dropping the column  as majority of this column is empty"
      ],
      "execution_count": 11,
      "outputs": []
    },
    {
      "cell_type": "code",
      "metadata": {
        "id": "bkpFfvlkLTZp"
      },
      "source": [
        "Data = Data.drop(['agent'], axis = 1) # as a portion of the values in this column is missing and this column will not be required for further analysis"
      ],
      "execution_count": 12,
      "outputs": []
    },
    {
      "cell_type": "code",
      "metadata": {
        "id": "iQb51dFzMIT9"
      },
      "source": [
        "#There are 4 records missing in the \"children \" column, hence we will fill the value using the statistical 'mean'\n",
        "Data[\"Children\"].fillna(value = Data[\"Children\"].mean(), inplace=True)\n",
        "Data[\"Children\"] = Data[\"Children\"].apply(np.floor)"
      ],
      "execution_count": 13,
      "outputs": []
    },
    {
      "cell_type": "code",
      "metadata": {
        "id": "_btrNtrMMfji"
      },
      "source": [
        "#Now, there are about 388 records in the 'country' column whose data is missing. Here we have a total of about 120k  records, so we will remove these 338 records , as there seems no other way to fill these records\n",
        "Data = Data.dropna(axis = 0)"
      ],
      "execution_count": 14,
      "outputs": []
    },
    {
      "cell_type": "code",
      "metadata": {
        "colab": {
          "base_uri": "https://localhost:8080/"
        },
        "id": "56-lu3J-NEB0",
        "outputId": "896295f2-f7d9-4949-a1c1-e81e516d3b1d"
      },
      "source": [
        "Data.isnull().sum()"
      ],
      "execution_count": 15,
      "outputs": [
        {
          "output_type": "execute_result",
          "data": {
            "text/plain": [
              "Name                    0\n",
              "Canceled                0\n",
              "LeadTime                0\n",
              "ArrivalYear             0\n",
              "ArrivalMonth            0\n",
              "ArrivalWeek             0\n",
              "ArrivingDay             0\n",
              "WeekendStays            0\n",
              "WeekdayStays            0\n",
              "Adults                  0\n",
              "Children                0\n",
              "Babies                  0\n",
              "Meal                    0\n",
              "Country                 0\n",
              "Segment                 0\n",
              "Distribution_Channel    0\n",
              "RepeatGuest             0\n",
              "PreviousCancel          0\n",
              "PreviousBook            0\n",
              "Booked_RoomType         0\n",
              "Assigned_RoomType       0\n",
              "ChangedBooking          0\n",
              "DepositType             0\n",
              "WaitingDays             0\n",
              "CustomerType            0\n",
              "ADR                     0\n",
              "ParkingSpace            0\n",
              "SpecialRequests         0\n",
              "Status                  0\n",
              "ReservationDate         0\n",
              "dtype: int64"
            ]
          },
          "metadata": {},
          "execution_count": 15
        }
      ]
    },
    {
      "cell_type": "markdown",
      "metadata": {
        "id": "A9kzdXe5RLus"
      },
      "source": [
        "There is no need for records where the number of the people in a booking is 0. So we will delete  such records."
      ]
    },
    {
      "cell_type": "code",
      "metadata": {
        "id": "nYOjmVigRDUT"
      },
      "source": [
        "Guests1 = list(Data.loc[Data[\"Adults\"]\n",
        "                   + Data[\"Children\"]\n",
        "                   + Data[\"Babies\"]==0].index)\n",
        "Data.drop(Guests1,inplace=True)"
      ],
      "execution_count": 16,
      "outputs": []
    },
    {
      "cell_type": "markdown",
      "metadata": {
        "id": "SymclrcuNMYM"
      },
      "source": [
        "**Conclusion:-**\n",
        "\n",
        "Here, We have removed all the missing values from the dataset and hence, we conclude with the cleaning process and move with the next step."
      ]
    },
    {
      "cell_type": "code",
      "metadata": {
        "id": "BQ-HVzyySGQY"
      },
      "source": [
        "#resetting the index \n",
        "Data.reset_index()"
      ],
      "execution_count": 17,
      "outputs": []
    },
    {
      "cell_type": "markdown",
      "metadata": {
        "id": "zNfgBk_I3Ofp"
      },
      "source": [
        "#**Outlier Mining**\n",
        "\n",
        "Outliers is ,basically,  an extreme value that deviates from the other observation. Removal of outliers is extremely important for attaining better results.\n",
        "\n",
        "First, Let's determine the outliers in the columns of the dataset."
      ]
    },
    {
      "cell_type": "code",
      "metadata": {
        "id": "8DwbYhWh3OBe",
        "colab": {
          "base_uri": "https://localhost:8080/",
          "height": 300
        },
        "outputId": "f26ed36c-f35b-45d1-fad3-970dc50f8361"
      },
      "source": [
        "# Determining the outliers in a statistical manner\n",
        "numvar = ['LeadTime', 'WeekendStays', 'Adults','Children', 'WeekdayStays', 'Babies','ADR','SpecialRequests','ParkingSpace']\n",
        "Data[numvar].describe()"
      ],
      "execution_count": 18,
      "outputs": [
        {
          "output_type": "execute_result",
          "data": {
            "text/html": [
              "<div>\n",
              "<style scoped>\n",
              "    .dataframe tbody tr th:only-of-type {\n",
              "        vertical-align: middle;\n",
              "    }\n",
              "\n",
              "    .dataframe tbody tr th {\n",
              "        vertical-align: top;\n",
              "    }\n",
              "\n",
              "    .dataframe thead th {\n",
              "        text-align: right;\n",
              "    }\n",
              "</style>\n",
              "<table border=\"1\" class=\"dataframe\">\n",
              "  <thead>\n",
              "    <tr style=\"text-align: right;\">\n",
              "      <th></th>\n",
              "      <th>LeadTime</th>\n",
              "      <th>WeekendStays</th>\n",
              "      <th>Adults</th>\n",
              "      <th>Children</th>\n",
              "      <th>WeekdayStays</th>\n",
              "      <th>Babies</th>\n",
              "      <th>ADR</th>\n",
              "      <th>SpecialRequests</th>\n",
              "      <th>ParkingSpace</th>\n",
              "    </tr>\n",
              "  </thead>\n",
              "  <tbody>\n",
              "    <tr>\n",
              "      <th>count</th>\n",
              "      <td>118732.000000</td>\n",
              "      <td>118732.000000</td>\n",
              "      <td>118732.000000</td>\n",
              "      <td>118732.000000</td>\n",
              "      <td>118732.000000</td>\n",
              "      <td>118732.000000</td>\n",
              "      <td>118732.000000</td>\n",
              "      <td>118732.00000</td>\n",
              "      <td>118732.000000</td>\n",
              "    </tr>\n",
              "    <tr>\n",
              "      <th>mean</th>\n",
              "      <td>104.397896</td>\n",
              "      <td>0.928301</td>\n",
              "      <td>1.861065</td>\n",
              "      <td>0.104353</td>\n",
              "      <td>2.500910</td>\n",
              "      <td>0.007959</td>\n",
              "      <td>102.131000</td>\n",
              "      <td>0.57180</td>\n",
              "      <td>0.061913</td>\n",
              "    </tr>\n",
              "    <tr>\n",
              "      <th>std</th>\n",
              "      <td>106.915104</td>\n",
              "      <td>0.992720</td>\n",
              "      <td>0.574697</td>\n",
              "      <td>0.399432</td>\n",
              "      <td>1.889086</td>\n",
              "      <td>0.097448</td>\n",
              "      <td>50.390757</td>\n",
              "      <td>0.79274</td>\n",
              "      <td>0.244226</td>\n",
              "    </tr>\n",
              "    <tr>\n",
              "      <th>min</th>\n",
              "      <td>0.000000</td>\n",
              "      <td>0.000000</td>\n",
              "      <td>0.000000</td>\n",
              "      <td>0.000000</td>\n",
              "      <td>0.000000</td>\n",
              "      <td>0.000000</td>\n",
              "      <td>-6.380000</td>\n",
              "      <td>0.00000</td>\n",
              "      <td>0.000000</td>\n",
              "    </tr>\n",
              "    <tr>\n",
              "      <th>25%</th>\n",
              "      <td>18.000000</td>\n",
              "      <td>0.000000</td>\n",
              "      <td>2.000000</td>\n",
              "      <td>0.000000</td>\n",
              "      <td>1.000000</td>\n",
              "      <td>0.000000</td>\n",
              "      <td>70.000000</td>\n",
              "      <td>0.00000</td>\n",
              "      <td>0.000000</td>\n",
              "    </tr>\n",
              "    <tr>\n",
              "      <th>50%</th>\n",
              "      <td>70.000000</td>\n",
              "      <td>1.000000</td>\n",
              "      <td>2.000000</td>\n",
              "      <td>0.000000</td>\n",
              "      <td>2.000000</td>\n",
              "      <td>0.000000</td>\n",
              "      <td>95.000000</td>\n",
              "      <td>0.00000</td>\n",
              "      <td>0.000000</td>\n",
              "    </tr>\n",
              "    <tr>\n",
              "      <th>75%</th>\n",
              "      <td>161.000000</td>\n",
              "      <td>2.000000</td>\n",
              "      <td>2.000000</td>\n",
              "      <td>0.000000</td>\n",
              "      <td>3.000000</td>\n",
              "      <td>0.000000</td>\n",
              "      <td>126.000000</td>\n",
              "      <td>1.00000</td>\n",
              "      <td>0.000000</td>\n",
              "    </tr>\n",
              "    <tr>\n",
              "      <th>max</th>\n",
              "      <td>737.000000</td>\n",
              "      <td>16.000000</td>\n",
              "      <td>55.000000</td>\n",
              "      <td>10.000000</td>\n",
              "      <td>40.000000</td>\n",
              "      <td>10.000000</td>\n",
              "      <td>5400.000000</td>\n",
              "      <td>5.00000</td>\n",
              "      <td>8.000000</td>\n",
              "    </tr>\n",
              "  </tbody>\n",
              "</table>\n",
              "</div>"
            ],
            "text/plain": [
              "            LeadTime   WeekendStays         Adults       Children  \\\n",
              "count  118732.000000  118732.000000  118732.000000  118732.000000   \n",
              "mean      104.397896       0.928301       1.861065       0.104353   \n",
              "std       106.915104       0.992720       0.574697       0.399432   \n",
              "min         0.000000       0.000000       0.000000       0.000000   \n",
              "25%        18.000000       0.000000       2.000000       0.000000   \n",
              "50%        70.000000       1.000000       2.000000       0.000000   \n",
              "75%       161.000000       2.000000       2.000000       0.000000   \n",
              "max       737.000000      16.000000      55.000000      10.000000   \n",
              "\n",
              "        WeekdayStays         Babies            ADR  SpecialRequests  \\\n",
              "count  118732.000000  118732.000000  118732.000000     118732.00000   \n",
              "mean        2.500910       0.007959     102.131000          0.57180   \n",
              "std         1.889086       0.097448      50.390757          0.79274   \n",
              "min         0.000000       0.000000      -6.380000          0.00000   \n",
              "25%         1.000000       0.000000      70.000000          0.00000   \n",
              "50%         2.000000       0.000000      95.000000          0.00000   \n",
              "75%         3.000000       0.000000     126.000000          1.00000   \n",
              "max        40.000000      10.000000    5400.000000          5.00000   \n",
              "\n",
              "        ParkingSpace  \n",
              "count  118732.000000  \n",
              "mean        0.061913  \n",
              "std         0.244226  \n",
              "min         0.000000  \n",
              "25%         0.000000  \n",
              "50%         0.000000  \n",
              "75%         0.000000  \n",
              "max         8.000000  "
            ]
          },
          "metadata": {},
          "execution_count": 18
        }
      ]
    },
    {
      "cell_type": "markdown",
      "metadata": {
        "id": "lKehvvp36G41"
      },
      "source": [
        "There is huge difference between the mean value and the maximum value of most of the columns and these values are outliers, which needs to be processed in a proper manner "
      ]
    },
    {
      "cell_type": "code",
      "metadata": {
        "id": "dgalB7Aw6bNB",
        "colab": {
          "base_uri": "https://localhost:8080/",
          "height": 1000
        },
        "outputId": "2236713a-a9f0-4feb-93e4-ebc4bfda0ec1"
      },
      "source": [
        "# Displaying the outliers in a Graphical way\n",
        "n = 1\n",
        "plt.figure(figsize=(16,18))\n",
        "for feature in numvar:\n",
        "    plt.subplot(4,4,n)\n",
        "    sns.boxplot(Data[feature])\n",
        "    n+=1\n",
        "    plt.tight_layout()"
      ],
      "execution_count": 19,
      "outputs": [
        {
          "output_type": "stream",
          "name": "stderr",
          "text": [
            "/usr/local/lib/python3.7/dist-packages/seaborn/_decorators.py:43: FutureWarning: Pass the following variable as a keyword arg: x. From version 0.12, the only valid positional argument will be `data`, and passing other arguments without an explicit keyword will result in an error or misinterpretation.\n",
            "  FutureWarning\n",
            "/usr/local/lib/python3.7/dist-packages/seaborn/_decorators.py:43: FutureWarning: Pass the following variable as a keyword arg: x. From version 0.12, the only valid positional argument will be `data`, and passing other arguments without an explicit keyword will result in an error or misinterpretation.\n",
            "  FutureWarning\n",
            "/usr/local/lib/python3.7/dist-packages/seaborn/_decorators.py:43: FutureWarning: Pass the following variable as a keyword arg: x. From version 0.12, the only valid positional argument will be `data`, and passing other arguments without an explicit keyword will result in an error or misinterpretation.\n",
            "  FutureWarning\n",
            "/usr/local/lib/python3.7/dist-packages/seaborn/_decorators.py:43: FutureWarning: Pass the following variable as a keyword arg: x. From version 0.12, the only valid positional argument will be `data`, and passing other arguments without an explicit keyword will result in an error or misinterpretation.\n",
            "  FutureWarning\n",
            "/usr/local/lib/python3.7/dist-packages/seaborn/_decorators.py:43: FutureWarning: Pass the following variable as a keyword arg: x. From version 0.12, the only valid positional argument will be `data`, and passing other arguments without an explicit keyword will result in an error or misinterpretation.\n",
            "  FutureWarning\n",
            "/usr/local/lib/python3.7/dist-packages/seaborn/_decorators.py:43: FutureWarning: Pass the following variable as a keyword arg: x. From version 0.12, the only valid positional argument will be `data`, and passing other arguments without an explicit keyword will result in an error or misinterpretation.\n",
            "  FutureWarning\n",
            "/usr/local/lib/python3.7/dist-packages/seaborn/_decorators.py:43: FutureWarning: Pass the following variable as a keyword arg: x. From version 0.12, the only valid positional argument will be `data`, and passing other arguments without an explicit keyword will result in an error or misinterpretation.\n",
            "  FutureWarning\n",
            "/usr/local/lib/python3.7/dist-packages/seaborn/_decorators.py:43: FutureWarning: Pass the following variable as a keyword arg: x. From version 0.12, the only valid positional argument will be `data`, and passing other arguments without an explicit keyword will result in an error or misinterpretation.\n",
            "  FutureWarning\n",
            "/usr/local/lib/python3.7/dist-packages/seaborn/_decorators.py:43: FutureWarning: Pass the following variable as a keyword arg: x. From version 0.12, the only valid positional argument will be `data`, and passing other arguments without an explicit keyword will result in an error or misinterpretation.\n",
            "  FutureWarning\n"
          ]
        },
        {
          "output_type": "display_data",
          "data": {
            "image/png": "[encoded data removed]",
            "text/plain": [
              "<Figure size 1152x1296 with 9 Axes>"
            ]
          },
          "metadata": {}
        }
      ]
    },
    {
      "cell_type": "markdown",
      "metadata": {
        "id": "OtuDbnC168et"
      },
      "source": [
        "The dots displayed in the boxplots of the columns are the outliers.\n",
        "\n",
        "Now, we will clean the outliers."
      ]
    },
    {
      "cell_type": "code",
      "metadata": {
        "id": "n1nbz9Lm7PbH"
      },
      "source": [
        "#Cleaning the outliers\n",
        "Data.loc[Data.LeadTime > 200,'LeadTime']=200\n",
        "Data.loc[Data.WeekendStays> 4,'WeekendStays']=4\n",
        "Data.loc[Data.Adults > 5,'Adults']=5\n",
        "Data.loc[Data.Children > 2,'Children']=2\n",
        "Data.loc[Data.WeekdayStays > 5,'WeekdayStays']=5\n",
        "Data.loc[Data.ADR > 250,'ADR']=250\n",
        "Data.loc[Data.SpecialRequests > 2,'SpecialRequests ']=2\n",
        "Data.loc[Data.ParkingSpace > 2,'ParkingSpace']=2"
      ],
      "execution_count": 20,
      "outputs": []
    },
    {
      "cell_type": "code",
      "metadata": {
        "id": "PDqLrpOw7Z-H",
        "colab": {
          "base_uri": "https://localhost:8080/",
          "height": 300
        },
        "outputId": "38304936-e59a-40b4-92c6-02e6b62ca372"
      },
      "source": [
        "Data[numvar].describe()"
      ],
      "execution_count": 21,
      "outputs": [
        {
          "output_type": "execute_result",
          "data": {
            "text/html": [
              "<div>\n",
              "<style scoped>\n",
              "    .dataframe tbody tr th:only-of-type {\n",
              "        vertical-align: middle;\n",
              "    }\n",
              "\n",
              "    .dataframe tbody tr th {\n",
              "        vertical-align: top;\n",
              "    }\n",
              "\n",
              "    .dataframe thead th {\n",
              "        text-align: right;\n",
              "    }\n",
              "</style>\n",
              "<table border=\"1\" class=\"dataframe\">\n",
              "  <thead>\n",
              "    <tr style=\"text-align: right;\">\n",
              "      <th></th>\n",
              "      <th>LeadTime</th>\n",
              "      <th>WeekendStays</th>\n",
              "      <th>Adults</th>\n",
              "      <th>Children</th>\n",
              "      <th>WeekdayStays</th>\n",
              "      <th>Babies</th>\n",
              "      <th>ADR</th>\n",
              "      <th>SpecialRequests</th>\n",
              "      <th>ParkingSpace</th>\n",
              "    </tr>\n",
              "  </thead>\n",
              "  <tbody>\n",
              "    <tr>\n",
              "      <th>count</th>\n",
              "      <td>118732.000000</td>\n",
              "      <td>118732.000000</td>\n",
              "      <td>118732.000000</td>\n",
              "      <td>118732.000000</td>\n",
              "      <td>118732.000000</td>\n",
              "      <td>118732.000000</td>\n",
              "      <td>118732.000000</td>\n",
              "      <td>118732.00000</td>\n",
              "      <td>118732.000000</td>\n",
              "    </tr>\n",
              "    <tr>\n",
              "      <th>mean</th>\n",
              "      <td>88.007151</td>\n",
              "      <td>0.921116</td>\n",
              "      <td>1.858412</td>\n",
              "      <td>0.103645</td>\n",
              "      <td>2.367736</td>\n",
              "      <td>0.007959</td>\n",
              "      <td>101.739172</td>\n",
              "      <td>0.57180</td>\n",
              "      <td>0.061786</td>\n",
              "    </tr>\n",
              "    <tr>\n",
              "      <th>std</th>\n",
              "      <td>73.556075</td>\n",
              "      <td>0.956417</td>\n",
              "      <td>0.484203</td>\n",
              "      <td>0.394568</td>\n",
              "      <td>1.442575</td>\n",
              "      <td>0.097448</td>\n",
              "      <td>46.667200</td>\n",
              "      <td>0.79274</td>\n",
              "      <td>0.241919</td>\n",
              "    </tr>\n",
              "    <tr>\n",
              "      <th>min</th>\n",
              "      <td>0.000000</td>\n",
              "      <td>0.000000</td>\n",
              "      <td>0.000000</td>\n",
              "      <td>0.000000</td>\n",
              "      <td>0.000000</td>\n",
              "      <td>0.000000</td>\n",
              "      <td>-6.380000</td>\n",
              "      <td>0.00000</td>\n",
              "      <td>0.000000</td>\n",
              "    </tr>\n",
              "    <tr>\n",
              "      <th>25%</th>\n",
              "      <td>18.000000</td>\n",
              "      <td>0.000000</td>\n",
              "      <td>2.000000</td>\n",
              "      <td>0.000000</td>\n",
              "      <td>1.000000</td>\n",
              "      <td>0.000000</td>\n",
              "      <td>70.000000</td>\n",
              "      <td>0.00000</td>\n",
              "      <td>0.000000</td>\n",
              "    </tr>\n",
              "    <tr>\n",
              "      <th>50%</th>\n",
              "      <td>70.000000</td>\n",
              "      <td>1.000000</td>\n",
              "      <td>2.000000</td>\n",
              "      <td>0.000000</td>\n",
              "      <td>2.000000</td>\n",
              "      <td>0.000000</td>\n",
              "      <td>95.000000</td>\n",
              "      <td>0.00000</td>\n",
              "      <td>0.000000</td>\n",
              "    </tr>\n",
              "    <tr>\n",
              "      <th>75%</th>\n",
              "      <td>161.000000</td>\n",
              "      <td>2.000000</td>\n",
              "      <td>2.000000</td>\n",
              "      <td>0.000000</td>\n",
              "      <td>3.000000</td>\n",
              "      <td>0.000000</td>\n",
              "      <td>126.000000</td>\n",
              "      <td>1.00000</td>\n",
              "      <td>0.000000</td>\n",
              "    </tr>\n",
              "    <tr>\n",
              "      <th>max</th>\n",
              "      <td>200.000000</td>\n",
              "      <td>4.000000</td>\n",
              "      <td>5.000000</td>\n",
              "      <td>2.000000</td>\n",
              "      <td>5.000000</td>\n",
              "      <td>10.000000</td>\n",
              "      <td>250.000000</td>\n",
              "      <td>5.00000</td>\n",
              "      <td>2.000000</td>\n",
              "    </tr>\n",
              "  </tbody>\n",
              "</table>\n",
              "</div>"
            ],
            "text/plain": [
              "            LeadTime   WeekendStays         Adults       Children  \\\n",
              "count  118732.000000  118732.000000  118732.000000  118732.000000   \n",
              "mean       88.007151       0.921116       1.858412       0.103645   \n",
              "std        73.556075       0.956417       0.484203       0.394568   \n",
              "min         0.000000       0.000000       0.000000       0.000000   \n",
              "25%        18.000000       0.000000       2.000000       0.000000   \n",
              "50%        70.000000       1.000000       2.000000       0.000000   \n",
              "75%       161.000000       2.000000       2.000000       0.000000   \n",
              "max       200.000000       4.000000       5.000000       2.000000   \n",
              "\n",
              "        WeekdayStays         Babies            ADR  SpecialRequests  \\\n",
              "count  118732.000000  118732.000000  118732.000000     118732.00000   \n",
              "mean        2.367736       0.007959     101.739172          0.57180   \n",
              "std         1.442575       0.097448      46.667200          0.79274   \n",
              "min         0.000000       0.000000      -6.380000          0.00000   \n",
              "25%         1.000000       0.000000      70.000000          0.00000   \n",
              "50%         2.000000       0.000000      95.000000          0.00000   \n",
              "75%         3.000000       0.000000     126.000000          1.00000   \n",
              "max         5.000000      10.000000     250.000000          5.00000   \n",
              "\n",
              "        ParkingSpace  \n",
              "count  118732.000000  \n",
              "mean        0.061786  \n",
              "std         0.241919  \n",
              "min         0.000000  \n",
              "25%         0.000000  \n",
              "50%         0.000000  \n",
              "75%         0.000000  \n",
              "max         2.000000  "
            ]
          },
          "metadata": {},
          "execution_count": 21
        }
      ]
    },
    {
      "cell_type": "markdown",
      "metadata": {
        "id": "-YciqOtW70cH"
      },
      "source": [
        "Finally, from the above table, we can conclude that the \"**Outlier Mining**\" process is over.\n",
        "\n",
        "Now , we will move towards the analysis step, **EDA**"
      ]
    },
    {
      "cell_type": "markdown",
      "metadata": {
        "id": "loOvV4P8NuWK"
      },
      "source": [
        "# Exploratory Data Analysis\n",
        "Here, we will look for some general conclusions and summary among the different columns of the dataset.\n",
        "\n",
        "Let's  start with the basic overview of the dataset"
      ]
    },
    {
      "cell_type": "code",
      "metadata": {
        "id": "j1MeCkiQNdKE",
        "colab": {
          "base_uri": "https://localhost:8080/"
        },
        "outputId": "5d7cd1b2-a1b9-4a28-fe54-2af8bc663256"
      },
      "source": [
        "Data.info()"
      ],
      "execution_count": 22,
      "outputs": [
        {
          "output_type": "stream",
          "name": "stdout",
          "text": [
            "<class 'pandas.core.frame.DataFrame'>\n",
            "Int64Index: 118732 entries, 0 to 119389\n",
            "Data columns (total 31 columns):\n",
            " #   Column                Non-Null Count   Dtype  \n",
            "---  ------                --------------   -----  \n",
            " 0   Name                  118732 non-null  object \n",
            " 1   Canceled              118732 non-null  int64  \n",
            " 2   LeadTime              118732 non-null  int64  \n",
            " 3   ArrivalYear           118732 non-null  int64  \n",
            " 4   ArrivalMonth          118732 non-null  object \n",
            " 5   ArrivalWeek           118732 non-null  int64  \n",
            " 6   ArrivingDay           118732 non-null  int64  \n",
            " 7   WeekendStays          118732 non-null  int64  \n",
            " 8   WeekdayStays          118732 non-null  int64  \n",
            " 9   Adults                118732 non-null  int64  \n",
            " 10  Children              118732 non-null  float64\n",
            " 11  Babies                118732 non-null  int64  \n",
            " 12  Meal                  118732 non-null  object \n",
            " 13  Country               118732 non-null  object \n",
            " 14  Segment               118732 non-null  object \n",
            " 15  Distribution_Channel  118732 non-null  object \n",
            " 16  RepeatGuest           118732 non-null  int64  \n",
            " 17  PreviousCancel        118732 non-null  int64  \n",
            " 18  PreviousBook          118732 non-null  int64  \n",
            " 19  Booked_RoomType       118732 non-null  object \n",
            " 20  Assigned_RoomType     118732 non-null  object \n",
            " 21  ChangedBooking        118732 non-null  int64  \n",
            " 22  DepositType           118732 non-null  object \n",
            " 23  WaitingDays           118732 non-null  int64  \n",
            " 24  CustomerType          118732 non-null  object \n",
            " 25  ADR                   118732 non-null  float64\n",
            " 26  ParkingSpace          118732 non-null  int64  \n",
            " 27  SpecialRequests       118732 non-null  int64  \n",
            " 28  Status                118732 non-null  object \n",
            " 29  ReservationDate       118732 non-null  object \n",
            " 30  SpecialRequests       2861 non-null    float64\n",
            "dtypes: float64(3), int64(16), object(12)\n",
            "memory usage: 29.0+ MB\n"
          ]
        }
      ]
    },
    {
      "cell_type": "markdown",
      "metadata": {
        "id": "sct8smpZPTDv"
      },
      "source": [
        "We have about 119k records after completing the cleaning process "
      ]
    },
    {
      "cell_type": "code",
      "metadata": {
        "id": "z68NlestNtXa",
        "colab": {
          "base_uri": "https://localhost:8080/",
          "height": 936
        },
        "outputId": "047ecf60-cec1-43fe-c723-4febb34a8b2b"
      },
      "source": [
        "Data.hist(figsize=(20,16))\n",
        "plt.show()\n",
        "#having a general overview of the columns in the form of a histogram. "
      ],
      "execution_count": 23,
      "outputs": [
        {
          "output_type": "display_data",
          "data": {
            "image/png": "[encoded data removed]",
            "text/plain": [
              "<Figure size 1440x1152 with 20 Axes>"
            ]
          },
          "metadata": {}
        }
      ]
    },
    {
      "cell_type": "code",
      "metadata": {
        "id": "DoUSWDhVQw_7",
        "colab": {
          "base_uri": "https://localhost:8080/"
        },
        "outputId": "22387fd1-dc89-4ca2-fbcf-5307c1c96dd9"
      },
      "source": [
        "Data.groupby(['Name'])['ChangedBooking'].sum()"
      ],
      "execution_count": 24,
      "outputs": [
        {
          "output_type": "execute_result",
          "data": {
            "text/plain": [
              "Name\n",
              "City Hotel      14567\n",
              "Resort Hotel    11414\n",
              "Name: ChangedBooking, dtype: int64"
            ]
          },
          "metadata": {},
          "execution_count": 24
        }
      ]
    },
    {
      "cell_type": "code",
      "metadata": {
        "id": "tQns5xDkSzeH",
        "colab": {
          "base_uri": "https://localhost:8080/",
          "height": 341
        },
        "outputId": "0a445ade-ddae-499e-d867-b3a6cb335308"
      },
      "source": [
        "mylabels = [\"City Hotel\", \"Resort Hotel\"]\n",
        "plt.figure(figsize=(3, 3))\n",
        "mycolor = ['#19E519', '#1994E5']\n",
        "print('       Total number of Bookings')\n",
        "Data.groupby(['Name'])['ChangedBooking'].sum().plot.pie(radius = 2, colors = mycolor, labels = mylabels,autopct='%1.2f%%' , shadow = True)\n",
        "plt.show()"
      ],
      "execution_count": 25,
      "outputs": [
        {
          "output_type": "stream",
          "name": "stdout",
          "text": [
            "       Total number of Bookings\n"
          ]
        },
        {
          "output_type": "display_data",
          "data": {
            "image/png": "[encoded data removed]",
            "text/plain": [
              "<Figure size 216x216 with 1 Axes>"
            ]
          },
          "metadata": {}
        }
      ]
    },
    {
      "cell_type": "markdown",
      "metadata": {
        "id": "J1ouCE9_TdgS"
      },
      "source": [
        "#**Conclusion:**\n",
        "\n",
        "The number of guest bookings is more at City Hotel as compared to Resort Hotel (56.07 % and 43.93% respectively). This shows that **people prefer 'City Hotel' more tha 'Resort Hotel'**"
      ]
    },
    {
      "cell_type": "markdown",
      "metadata": {
        "id": "2M1gORBPXGLD"
      },
      "source": [
        "# Number of special requests made by customers in their booking "
      ]
    },
    {
      "cell_type": "code",
      "metadata": {
        "id": "zC9azCQTW7Zh",
        "colab": {
          "base_uri": "https://localhost:8080/",
          "height": 373
        },
        "outputId": "2ea75570-beac-4c76-9645-4a2402eb6779"
      },
      "source": [
        "plt.figure(figsize=(8,5))\n",
        "sns.countplot(x='SpecialRequests', data=Data, palette = 'gist_rainbow_r')\n",
        "plt.title('Total Special Request')"
      ],
      "execution_count": 26,
      "outputs": [
        {
          "output_type": "execute_result",
          "data": {
            "text/plain": [
              "Text(0.5, 1.0, 'Total Special Request')"
            ]
          },
          "metadata": {},
          "execution_count": 26
        },
        {
          "output_type": "display_data",
          "data": {
            "image/png": "[encoded data removed]",
            "text/plain": [
              "<Figure size 576x360 with 1 Axes>"
            ]
          },
          "metadata": {}
        }
      ]
    },
    {
      "cell_type": "markdown",
      "metadata": {
        "id": "mGDHBPUtXXF4"
      },
      "source": [
        "Conclusion:- \n",
        "\n",
        "Majority of the people do not prefer to make any special requests in their booking."
      ]
    },
    {
      "cell_type": "markdown",
      "metadata": {
        "id": "vOEyKL1aYpCe"
      },
      "source": [
        "# How many Bookings were cancelled with respect to each hotel?\n",
        "\n",
        "{1: 'Not Cancelled'\n",
        "\n",
        " 0: 'Cancelled}'"
      ]
    },
    {
      "cell_type": "code",
      "metadata": {
        "id": "B7XDeMPFXfbF",
        "colab": {
          "base_uri": "https://localhost:8080/",
          "height": 400
        },
        "outputId": "6d003280-8c2c-4b99-b495-378b15ff6f2d"
      },
      "source": [
        "plt.figure(figsize=(10,5.5))\n",
        "sns.countplot(x='Canceled', data=Data, palette = 'YlGnBu',hue='Name')\n",
        "plt.title('Booking Cancelled')"
      ],
      "execution_count": 27,
      "outputs": [
        {
          "output_type": "execute_result",
          "data": {
            "text/plain": [
              "Text(0.5, 1.0, 'Booking Cancelled')"
            ]
          },
          "metadata": {},
          "execution_count": 27
        },
        {
          "output_type": "display_data",
          "data": {
            "image/png": "[encoded data removed]",
            "text/plain": [
              "<Figure size 720x396 with 1 Axes>"
            ]
          },
          "metadata": {}
        }
      ]
    },
    {
      "cell_type": "markdown",
      "metadata": {
        "id": "LhlLk_MYz5Qd"
      },
      "source": [
        "Conclusion:-\n",
        "\n",
        "Majority portion of bookings were proceeded as planned earlier , but about a total of about 40k bookings ,among both the hotels, were cancelled at the last moment ."
      ]
    },
    {
      "cell_type": "code",
      "metadata": {
        "id": "U05j2elgZVLo",
        "colab": {
          "base_uri": "https://localhost:8080/",
          "height": 572
        },
        "outputId": "ffe71d00-e212-431c-d873-f462123204a8"
      },
      "source": [
        "City = Data[(Data['Name']== 'City Hotel')  & (Data['Canceled']==0)]\n",
        "Resort = Data[(Data['Name']== 'Resort Hotel')  & (Data['Canceled']==0)]\n",
        "\n",
        "CitySegment=City.Segment.value_counts()\n",
        "ResortSegment=Resort.Segment.value_counts()\n",
        "\n",
        "plt.figure(figsize=(20,16))\n",
        "plt.subplot(1,2,1)\n",
        "plt.pie(ResortSegment,labels=ResortSegment.index,autopct='%.2f%%')\n",
        "plt.title('Resort Hotel Market Segment')\n",
        "plt.legend(loc =\"upper left\")\n",
        "\n",
        "plt.subplot(1,2,2)\n",
        "plt.pie(CitySegment,labels=CitySegment.index,autopct='%.2f%%')\n",
        "plt.title('City Hotel Market Segment')\n",
        "plt.legend(loc =\"upper right\")"
      ],
      "execution_count": 28,
      "outputs": [
        {
          "output_type": "execute_result",
          "data": {
            "text/plain": [
              "<matplotlib.legend.Legend at 0x7f706f769e50>"
            ]
          },
          "metadata": {},
          "execution_count": 28
        },
        {
          "output_type": "display_data",
          "data": {
            "image/png": "[encoded data removed]",
            "text/plain": [
              "<Figure size 1440x1152 with 2 Axes>"
            ]
          },
          "metadata": {}
        }
      ]
    },
    {
      "cell_type": "markdown",
      "metadata": {
        "id": "tzU2QoaczI1t"
      },
      "source": [
        "Conclusion :\n",
        "\n",
        "For the both types of Hotels, the \"Online Trading Area(TA)\" market segment has the highest proportion of booking among all.\n"
      ]
    },
    {
      "cell_type": "markdown",
      "metadata": {
        "id": "DI8vUpLV0ZBN"
      },
      "source": [
        "# On an average basis,How many people in total were there in a single booking?\n",
        "\n"
      ]
    },
    {
      "cell_type": "code",
      "metadata": {
        "id": "H3yjRw741PB-",
        "colab": {
          "base_uri": "https://localhost:8080/",
          "height": 400
        },
        "outputId": "47d45203-3072-45a3-90ae-d9d0025fe53d"
      },
      "source": [
        "# To calculate total number of guests in a booking, Add the number of adults , children and babies for a particular booking.\n",
        "Data['Total_Guests'] = Data['Adults'] + Data['Children'] + Data['Babies'] \n",
        "\n",
        "plt.figure(figsize=(10,5.5))\n",
        "sns.countplot(x='Total_Guests', data=Data, palette = 'YlGnBu',hue='Name')\n",
        "plt.title('Number of people per booking')"
      ],
      "execution_count": 29,
      "outputs": [
        {
          "output_type": "execute_result",
          "data": {
            "text/plain": [
              "Text(0.5, 1.0, 'Number of people per booking')"
            ]
          },
          "metadata": {},
          "execution_count": 29
        },
        {
          "output_type": "display_data",
          "data": {
            "image/png": "[encoded data removed]",
            "text/plain": [
              "<Figure size 720x396 with 1 Axes>"
            ]
          },
          "metadata": {}
        }
      ]
    },
    {
      "cell_type": "markdown",
      "metadata": {
        "id": "9k1NpcFm9aaz"
      },
      "source": [
        "Conclusion:- \n",
        "\n",
        "For both City Hotel and Resort Hotel, there are 2 people in a family for maximum number of bookings."
      ]
    },
    {
      "cell_type": "code",
      "metadata": {
        "id": "T3glD87t1PLE"
      },
      "source": [
        "#collecting the city hotel and Resort hotel data indifferent individual groups\n",
        "City = Data[(Data['Name']== 'City Hotel')  & (Data['Canceled']==0)]\n",
        "Resort = Data[(Data['Name']== 'Resort Hotel')  & (Data['Canceled']==0)]\n"
      ],
      "execution_count": 30,
      "outputs": []
    },
    {
      "cell_type": "markdown",
      "metadata": {
        "id": "FXGmItzVBn4-"
      },
      "source": [
        "# Among the  four categories, what is the most common type of the booking :\n",
        "\n",
        "a)Transient\n",
        "\n",
        "b)Contract\n",
        "\n",
        "c)Group\n",
        "\n",
        "d)Transient-party"
      ]
    },
    {
      "cell_type": "code",
      "metadata": {
        "id": "mSsdPj7lARD3",
        "colab": {
          "base_uri": "https://localhost:8080/",
          "height": 408
        },
        "outputId": "935639a2-f96f-471a-fd4b-8b942ba305b9"
      },
      "source": [
        "CitySegment=City.CustomerType.value_counts()\n",
        "ResortSegment=Resort.CustomerType.value_counts()\n",
        "plt.figure(figsize=(20,16),dpi= 50)\n",
        "\n",
        "plt.subplot(1,2,1)\n",
        "plt.pie(ResortSegment,labels=ResortSegment.index,autopct='%.2f%%')\n",
        "plt.title('Resort Hotel customer type')\n",
        "plt.subplot(1,2,2)\n",
        "plt.pie(CitySegment,labels=CitySegment.index,autopct='%.3f%%')\n",
        "plt.title('City Hotel customer type')\n",
        "plt.legend()"
      ],
      "execution_count": 31,
      "outputs": [
        {
          "output_type": "execute_result",
          "data": {
            "text/plain": [
              "<matplotlib.legend.Legend at 0x7f709076c9d0>"
            ]
          },
          "metadata": {},
          "execution_count": 31
        },
        {
          "output_type": "display_data",
          "data": {
            "image/png": "[encoded data removed]",
            "text/plain": [
              "<Figure size 1000x800 with 2 Axes>"
            ]
          },
          "metadata": {}
        }
      ]
    },
    {
      "cell_type": "markdown",
      "metadata": {
        "id": "8d-skoD1CMmB"
      },
      "source": [
        "Conclusion:- \n",
        "\n",
        "From the above pie chart, it seems that among the four categories , the \"transient\" is very common in all the bookings ."
      ]
    },
    {
      "cell_type": "markdown",
      "metadata": {
        "id": "qz3SLw6IDU8z"
      },
      "source": [
        "From all the countries, name the country which has the maximum number of visitors coming into these hotels?\n",
        "\n"
      ]
    },
    {
      "cell_type": "code",
      "metadata": {
        "id": "Lx3LO1R8DR0-",
        "colab": {
          "base_uri": "https://localhost:8080/",
          "height": 542
        },
        "outputId": "267f93a5-4697-427b-b339-e8851a23b17c"
      },
      "source": [
        "number  = Data[Data['Canceled'] == 0].groupby(['Country']).size().reset_index(name = 'Total_Count')\n",
        "number.head()\n",
        "# Data.head(5)\n",
        "import plotly.express as px\n",
        "\n",
        "px.choropleth(number,\n",
        "                    locations = \"Country\",\n",
        "                    hover_name= \"Country\",\n",
        "                    color= \"Total_Count\" , \n",
        "                    title = 'Visitor count from different countries',\n",
        "                    color_continuous_scale=\"magenta\"\n",
        "\n",
        "                    )"
      ],
      "execution_count": 32,
      "outputs": [
        {
          "output_type": "display_data",
          "data": {
            "text/html": [
              "<html>\n",
              "<head><meta charset=\"utf-8\" /></head>\n",
              "<body>\n",
              "    <div>\n",
              "            <script src=\"https://cdnjs.cloudflare.com/ajax/libs/mathjax/2.7.5/MathJax.js?config=TeX-AMS-MML_SVG\"></script><script type=\"text/javascript\">if (window.MathJax) {MathJax.Hub.Config({SVG: {font: \"STIX-Web\"}});}</script>\n",
              "                <script type=\"text/javascript\">window.PlotlyConfig = {MathJaxConfig: 'local'};</script>\n",
              "        <script src=\"https://cdn.plot.ly/plotly-latest.min.js\"></script>    \n",
              "            <div id=\"eac5b02f-8df8-4b73-8b0a-6b7af9139d63\" class=\"plotly-graph-div\" style=\"height:525px; width:100%;\"></div>\n",
              "            <script type=\"text/javascript\">\n",
              "                \n",
              "                    window.PLOTLYENV=window.PLOTLYENV || {};\n",
              "                    \n",
              "                if (document.getElementById(\"eac5b02f-8df8-4b73-8b0a-6b7af9139d63\")) {\n",
              "                    Plotly.newPlot(\n",
              "                        'eac5b02f-8df8-4b73-8b0a-6b7af9139d63',\n",
              "                        [{\"coloraxis\": \"coloraxis\", \"geo\": \"geo\", \"hoverlabel\": {\"namelength\": 0}, \"hovertemplate\": \"<b>%{hovertext}</b><br><br>Country=%{location}<br>Total_Count=%{z}\", \"hovertext\": [\"ABW\", \"AGO\", \"AIA\", \"ALB\", \"AND\", \"ARE\", \"ARG\", \"ARM\", \"ASM\", \"ATA\", \"ATF\", \"AUS\", \"AUT\", \"AZE\", \"BDI\", \"BEL\", \"BFA\", \"BGD\", \"BGR\", \"BHR\", \"BHS\", \"BIH\", \"BLR\", \"BOL\", \"BRA\", \"BRB\", \"BWA\", \"CAF\", \"CHE\", \"CHL\", \"CHN\", \"CIV\", \"CMR\", \"CN\", \"COL\", \"COM\", \"CPV\", \"CRI\", \"CUB\", \"CYM\", \"CYP\", \"CZE\", \"DEU\", \"DJI\", \"DMA\", \"DNK\", \"DOM\", \"DZA\", \"ECU\", \"EGY\", \"ESP\", \"EST\", \"ETH\", \"FIN\", \"FRA\", \"FRO\", \"GAB\", \"GBR\", \"GEO\", \"GHA\", \"GIB\", \"GNB\", \"GRC\", \"GTM\", \"GUY\", \"HKG\", \"HRV\", \"HUN\", \"IDN\", \"IND\", \"IRL\", \"IRN\", \"IRQ\", \"ISL\", \"ISR\", \"ITA\", \"JAM\", \"JOR\", \"JPN\", \"KAZ\", \"KEN\", \"KIR\", \"KNA\", \"KOR\", \"KWT\", \"LAO\", \"LBN\", \"LBY\", \"LCA\", \"LIE\", \"LKA\", \"LTU\", \"LUX\", \"LVA\", \"MAC\", \"MAR\", \"MCO\", \"MDG\", \"MDV\", \"MEX\", \"MKD\", \"MLI\", \"MLT\", \"MMR\", \"MNE\", \"MOZ\", \"MRT\", \"MUS\", \"MWI\", \"MYS\", \"NAM\", \"NCL\", \"NGA\", \"NLD\", \"NOR\", \"NPL\", \"NZL\", \"OMN\", \"PAK\", \"PAN\", \"PER\", \"PHL\", \"PLW\", \"POL\", \"PRI\", \"PRT\", \"PRY\", \"PYF\", \"QAT\", \"ROU\", \"RUS\", \"RWA\", \"SAU\", \"SDN\", \"SEN\", \"SGP\", \"SLE\", \"SLV\", \"SMR\", \"SRB\", \"STP\", \"SUR\", \"SVK\", \"SVN\", \"SWE\", \"SYC\", \"SYR\", \"TGO\", \"THA\", \"TJK\", \"TMP\", \"TUN\", \"TUR\", \"TWN\", \"TZA\", \"UGA\", \"UKR\", \"URY\", \"USA\", \"UZB\", \"VEN\", \"VNM\", \"ZAF\", \"ZMB\", \"ZWE\"], \"locations\": [\"ABW\", \"AGO\", \"AIA\", \"ALB\", \"AND\", \"ARE\", \"ARG\", \"ARM\", \"ASM\", \"ATA\", \"ATF\", \"AUS\", \"AUT\", \"AZE\", \"BDI\", \"BEL\", \"BFA\", \"BGD\", \"BGR\", \"BHR\", \"BHS\", \"BIH\", \"BLR\", \"BOL\", \"BRA\", \"BRB\", \"BWA\", \"CAF\", \"CHE\", \"CHL\", \"CHN\", \"CIV\", \"CMR\", \"CN\", \"COL\", \"COM\", \"CPV\", \"CRI\", \"CUB\", \"CYM\", \"CYP\", \"CZE\", \"DEU\", \"DJI\", \"DMA\", \"DNK\", \"DOM\", \"DZA\", \"ECU\", \"EGY\", \"ESP\", \"EST\", \"ETH\", \"FIN\", \"FRA\", \"FRO\", \"GAB\", \"GBR\", \"GEO\", \"GHA\", \"GIB\", \"GNB\", \"GRC\", \"GTM\", \"GUY\", \"HKG\", \"HRV\", \"HUN\", \"IDN\", \"IND\", \"IRL\", \"IRN\", \"IRQ\", \"ISL\", \"ISR\", \"ITA\", \"JAM\", \"JOR\", \"JPN\", \"KAZ\", \"KEN\", \"KIR\", \"KNA\", \"KOR\", \"KWT\", \"LAO\", \"LBN\", \"LBY\", \"LCA\", \"LIE\", \"LKA\", \"LTU\", \"LUX\", \"LVA\", \"MAC\", \"MAR\", \"MCO\", \"MDG\", \"MDV\", \"MEX\", \"MKD\", \"MLI\", \"MLT\", \"MMR\", \"MNE\", \"MOZ\", \"MRT\", \"MUS\", \"MWI\", \"MYS\", \"NAM\", \"NCL\", \"NGA\", \"NLD\", \"NOR\", \"NPL\", \"NZL\", \"OMN\", \"PAK\", \"PAN\", \"PER\", \"PHL\", \"PLW\", \"POL\", \"PRI\", \"PRT\", \"PRY\", \"PYF\", \"QAT\", \"ROU\", \"RUS\", \"RWA\", \"SAU\", \"SDN\", \"SEN\", \"SGP\", \"SLE\", \"SLV\", \"SMR\", \"SRB\", \"STP\", \"SUR\", \"SVK\", \"SVN\", \"SWE\", \"SYC\", \"SYR\", \"TGO\", \"THA\", \"TJK\", \"TMP\", \"TUN\", \"TUR\", \"TWN\", \"TZA\", \"UGA\", \"UKR\", \"URY\", \"USA\", \"UZB\", \"VEN\", \"VNM\", \"ZAF\", \"ZMB\", \"ZWE\"], \"name\": \"\", \"type\": \"choropleth\", \"z\": [2, 157, 1, 10, 2, 8, 160, 6, 1, 2, 1, 319, 1033, 8, 1, 1868, 1, 3, 63, 1, 1, 10, 17, 10, 1392, 4, 1, 5, 1298, 49, 537, 4, 10, 1025, 48, 2, 12, 18, 8, 1, 40, 134, 6067, 1, 1, 326, 6, 82, 19, 21, 6383, 65, 2, 377, 8468, 1, 2, 9668, 7, 2, 7, 8, 93, 4, 1, 3, 75, 153, 11, 116, 2542, 59, 14, 53, 500, 2428, 6, 18, 169, 14, 4, 1, 2, 78, 10, 2, 22, 8, 1, 2, 7, 74, 177, 46, 1, 150, 3, 1, 3, 75, 8, 1, 13, 1, 3, 48, 1, 6, 2, 25, 1, 1, 13, 1716, 426, 1, 68, 14, 5, 9, 23, 15, 1, 703, 10, 20977, 4, 1, 4, 366, 391, 2, 15, 1, 3, 22, 1, 2, 1, 98, 2, 5, 41, 41, 793, 1, 3, 2, 41, 1, 2, 20, 146, 37, 2, 2, 48, 23, 1592, 2, 14, 6, 49, 1, 2]}],\n",
              "                        {\"coloraxis\": {\"colorbar\": {\"title\": {\"text\": \"Total_Count\"}}, \"colorscale\": [[0.0, \"rgb(243, 203, 211)\"], [0.16666666666666666, \"rgb(234, 169, 189)\"], [0.3333333333333333, \"rgb(221, 136, 172)\"], [0.5, \"rgb(202, 105, 157)\"], [0.6666666666666666, \"rgb(177, 77, 142)\"], [0.8333333333333334, \"rgb(145, 53, 125)\"], [1.0, \"rgb(108, 33, 103)\"]]}, \"geo\": {\"center\": {}, \"domain\": {\"x\": [0.0, 1.0], \"y\": [0.0, 1.0]}}, \"legend\": {\"tracegroupgap\": 0}, \"template\": {\"data\": {\"bar\": [{\"error_x\": {\"color\": \"#2a3f5f\"}, \"error_y\": {\"color\": \"#2a3f5f\"}, \"marker\": {\"line\": {\"color\": \"#E5ECF6\", \"width\": 0.5}}, \"type\": \"bar\"}], \"barpolar\": [{\"marker\": {\"line\": {\"color\": \"#E5ECF6\", \"width\": 0.5}}, \"type\": \"barpolar\"}], \"carpet\": [{\"aaxis\": {\"endlinecolor\": \"#2a3f5f\", \"gridcolor\": \"white\", \"linecolor\": \"white\", \"minorgridcolor\": \"white\", \"startlinecolor\": \"#2a3f5f\"}, \"baxis\": {\"endlinecolor\": \"#2a3f5f\", \"gridcolor\": \"white\", \"linecolor\": \"white\", \"minorgridcolor\": \"white\", \"startlinecolor\": \"#2a3f5f\"}, \"type\": \"carpet\"}], \"choropleth\": [{\"colorbar\": {\"outlinewidth\": 0, \"ticks\": \"\"}, \"type\": \"choropleth\"}], \"contour\": [{\"colorbar\": {\"outlinewidth\": 0, \"ticks\": \"\"}, \"colorscale\": [[0.0, \"#0d0887\"], [0.1111111111111111, \"#46039f\"], [0.2222222222222222, \"#7201a8\"], [0.3333333333333333, \"#9c179e\"], [0.4444444444444444, \"#bd3786\"], [0.5555555555555556, \"#d8576b\"], [0.6666666666666666, \"#ed7953\"], [0.7777777777777778, \"#fb9f3a\"], [0.8888888888888888, \"#fdca26\"], [1.0, \"#f0f921\"]], \"type\": \"contour\"}], \"contourcarpet\": [{\"colorbar\": {\"outlinewidth\": 0, \"ticks\": \"\"}, \"type\": \"contourcarpet\"}], \"heatmap\": [{\"colorbar\": {\"outlinewidth\": 0, \"ticks\": \"\"}, \"colorscale\": [[0.0, \"#0d0887\"], [0.1111111111111111, \"#46039f\"], [0.2222222222222222, \"#7201a8\"], [0.3333333333333333, \"#9c179e\"], [0.4444444444444444, \"#bd3786\"], [0.5555555555555556, \"#d8576b\"], [0.6666666666666666, \"#ed7953\"], [0.7777777777777778, \"#fb9f3a\"], [0.8888888888888888, \"#fdca26\"], [1.0, \"#f0f921\"]], \"type\": \"heatmap\"}], \"heatmapgl\": [{\"colorbar\": {\"outlinewidth\": 0, \"ticks\": \"\"}, \"colorscale\": [[0.0, \"#0d0887\"], [0.1111111111111111, \"#46039f\"], [0.2222222222222222, \"#7201a8\"], [0.3333333333333333, \"#9c179e\"], [0.4444444444444444, \"#bd3786\"], [0.5555555555555556, \"#d8576b\"], [0.6666666666666666, \"#ed7953\"], [0.7777777777777778, \"#fb9f3a\"], [0.8888888888888888, \"#fdca26\"], [1.0, \"#f0f921\"]], \"type\": \"heatmapgl\"}], \"histogram\": [{\"marker\": {\"colorbar\": {\"outlinewidth\": 0, \"ticks\": \"\"}}, \"type\": \"histogram\"}], \"histogram2d\": [{\"colorbar\": {\"outlinewidth\": 0, \"ticks\": \"\"}, \"colorscale\": [[0.0, \"#0d0887\"], [0.1111111111111111, \"#46039f\"], [0.2222222222222222, \"#7201a8\"], [0.3333333333333333, \"#9c179e\"], [0.4444444444444444, \"#bd3786\"], [0.5555555555555556, \"#d8576b\"], [0.6666666666666666, \"#ed7953\"], [0.7777777777777778, \"#fb9f3a\"], [0.8888888888888888, \"#fdca26\"], [1.0, \"#f0f921\"]], \"type\": \"histogram2d\"}], \"histogram2dcontour\": [{\"colorbar\": {\"outlinewidth\": 0, \"ticks\": \"\"}, \"colorscale\": [[0.0, \"#0d0887\"], [0.1111111111111111, \"#46039f\"], [0.2222222222222222, \"#7201a8\"], [0.3333333333333333, \"#9c179e\"], [0.4444444444444444, \"#bd3786\"], [0.5555555555555556, \"#d8576b\"], [0.6666666666666666, \"#ed7953\"], [0.7777777777777778, \"#fb9f3a\"], [0.8888888888888888, \"#fdca26\"], [1.0, \"#f0f921\"]], \"type\": \"histogram2dcontour\"}], \"mesh3d\": [{\"colorbar\": {\"outlinewidth\": 0, \"ticks\": \"\"}, \"type\": \"mesh3d\"}], \"parcoords\": [{\"line\": {\"colorbar\": {\"outlinewidth\": 0, \"ticks\": \"\"}}, \"type\": \"parcoords\"}], \"pie\": [{\"automargin\": true, \"type\": \"pie\"}], \"scatter\": [{\"marker\": {\"colorbar\": {\"outlinewidth\": 0, \"ticks\": \"\"}}, \"type\": \"scatter\"}], \"scatter3d\": [{\"line\": {\"colorbar\": {\"outlinewidth\": 0, \"ticks\": \"\"}}, \"marker\": {\"colorbar\": {\"outlinewidth\": 0, \"ticks\": \"\"}}, \"type\": \"scatter3d\"}], \"scattercarpet\": [{\"marker\": {\"colorbar\": {\"outlinewidth\": 0, \"ticks\": \"\"}}, \"type\": \"scattercarpet\"}], \"scattergeo\": [{\"marker\": {\"colorbar\": {\"outlinewidth\": 0, \"ticks\": \"\"}}, \"type\": \"scattergeo\"}], \"scattergl\": [{\"marker\": {\"colorbar\": {\"outlinewidth\": 0, \"ticks\": \"\"}}, \"type\": \"scattergl\"}], \"scattermapbox\": [{\"marker\": {\"colorbar\": {\"outlinewidth\": 0, \"ticks\": \"\"}}, \"type\": \"scattermapbox\"}], \"scatterpolar\": [{\"marker\": {\"colorbar\": {\"outlinewidth\": 0, \"ticks\": \"\"}}, \"type\": \"scatterpolar\"}], \"scatterpolargl\": [{\"marker\": {\"colorbar\": {\"outlinewidth\": 0, \"ticks\": \"\"}}, \"type\": \"scatterpolargl\"}], \"scatterternary\": [{\"marker\": {\"colorbar\": {\"outlinewidth\": 0, \"ticks\": \"\"}}, \"type\": \"scatterternary\"}], \"surface\": [{\"colorbar\": {\"outlinewidth\": 0, \"ticks\": \"\"}, \"colorscale\": [[0.0, \"#0d0887\"], [0.1111111111111111, \"#46039f\"], [0.2222222222222222, \"#7201a8\"], [0.3333333333333333, \"#9c179e\"], [0.4444444444444444, \"#bd3786\"], [0.5555555555555556, \"#d8576b\"], [0.6666666666666666, \"#ed7953\"], [0.7777777777777778, \"#fb9f3a\"], [0.8888888888888888, \"#fdca26\"], [1.0, \"#f0f921\"]], \"type\": \"surface\"}], \"table\": [{\"cells\": {\"fill\": {\"color\": \"#EBF0F8\"}, \"line\": {\"color\": \"white\"}}, \"header\": {\"fill\": {\"color\": \"#C8D4E3\"}, \"line\": {\"color\": \"white\"}}, \"type\": \"table\"}]}, \"layout\": {\"annotationdefaults\": {\"arrowcolor\": \"#2a3f5f\", \"arrowhead\": 0, \"arrowwidth\": 1}, \"coloraxis\": {\"colorbar\": {\"outlinewidth\": 0, \"ticks\": \"\"}}, \"colorscale\": {\"diverging\": [[0, \"#8e0152\"], [0.1, \"#c51b7d\"], [0.2, \"#de77ae\"], [0.3, \"#f1b6da\"], [0.4, \"#fde0ef\"], [0.5, \"#f7f7f7\"], [0.6, \"#e6f5d0\"], [0.7, \"#b8e186\"], [0.8, \"#7fbc41\"], [0.9, \"#4d9221\"], [1, \"#276419\"]], \"sequential\": [[0.0, \"#0d0887\"], [0.1111111111111111, \"#46039f\"], [0.2222222222222222, \"#7201a8\"], [0.3333333333333333, \"#9c179e\"], [0.4444444444444444, \"#bd3786\"], [0.5555555555555556, \"#d8576b\"], [0.6666666666666666, \"#ed7953\"], [0.7777777777777778, \"#fb9f3a\"], [0.8888888888888888, \"#fdca26\"], [1.0, \"#f0f921\"]], \"sequentialminus\": [[0.0, \"#0d0887\"], [0.1111111111111111, \"#46039f\"], [0.2222222222222222, \"#7201a8\"], [0.3333333333333333, \"#9c179e\"], [0.4444444444444444, \"#bd3786\"], [0.5555555555555556, \"#d8576b\"], [0.6666666666666666, \"#ed7953\"], [0.7777777777777778, \"#fb9f3a\"], [0.8888888888888888, \"#fdca26\"], [1.0, \"#f0f921\"]]}, \"colorway\": [\"#636efa\", \"#EF553B\", \"#00cc96\", \"#ab63fa\", \"#FFA15A\", \"#19d3f3\", \"#FF6692\", \"#B6E880\", \"#FF97FF\", \"#FECB52\"], \"font\": {\"color\": \"#2a3f5f\"}, \"geo\": {\"bgcolor\": \"white\", \"lakecolor\": \"white\", \"landcolor\": \"#E5ECF6\", \"showlakes\": true, \"showland\": true, \"subunitcolor\": \"white\"}, \"hoverlabel\": {\"align\": \"left\"}, \"hovermode\": \"closest\", \"mapbox\": {\"style\": \"light\"}, \"paper_bgcolor\": \"white\", \"plot_bgcolor\": \"#E5ECF6\", \"polar\": {\"angularaxis\": {\"gridcolor\": \"white\", \"linecolor\": \"white\", \"ticks\": \"\"}, \"bgcolor\": \"#E5ECF6\", \"radialaxis\": {\"gridcolor\": \"white\", \"linecolor\": \"white\", \"ticks\": \"\"}}, \"scene\": {\"xaxis\": {\"backgroundcolor\": \"#E5ECF6\", \"gridcolor\": \"white\", \"gridwidth\": 2, \"linecolor\": \"white\", \"showbackground\": true, \"ticks\": \"\", \"zerolinecolor\": \"white\"}, \"yaxis\": {\"backgroundcolor\": \"#E5ECF6\", \"gridcolor\": \"white\", \"gridwidth\": 2, \"linecolor\": \"white\", \"showbackground\": true, \"ticks\": \"\", \"zerolinecolor\": \"white\"}, \"zaxis\": {\"backgroundcolor\": \"#E5ECF6\", \"gridcolor\": \"white\", \"gridwidth\": 2, \"linecolor\": \"white\", \"showbackground\": true, \"ticks\": \"\", \"zerolinecolor\": \"white\"}}, \"shapedefaults\": {\"line\": {\"color\": \"#2a3f5f\"}}, \"ternary\": {\"aaxis\": {\"gridcolor\": \"white\", \"linecolor\": \"white\", \"ticks\": \"\"}, \"baxis\": {\"gridcolor\": \"white\", \"linecolor\": \"white\", \"ticks\": \"\"}, \"bgcolor\": \"#E5ECF6\", \"caxis\": {\"gridcolor\": \"white\", \"linecolor\": \"white\", \"ticks\": \"\"}}, \"title\": {\"x\": 0.05}, \"xaxis\": {\"automargin\": true, \"gridcolor\": \"white\", \"linecolor\": \"white\", \"ticks\": \"\", \"title\": {\"standoff\": 15}, \"zerolinecolor\": \"white\", \"zerolinewidth\": 2}, \"yaxis\": {\"automargin\": true, \"gridcolor\": \"white\", \"linecolor\": \"white\", \"ticks\": \"\", \"title\": {\"standoff\": 15}, \"zerolinecolor\": \"white\", \"zerolinewidth\": 2}}}, \"title\": {\"text\": \"Visitor count from different countries\"}},\n",
              "                        {\"responsive\": true}\n",
              "                    ).then(function(){\n",
              "                            \n",
              "var gd = document.getElementById('eac5b02f-8df8-4b73-8b0a-6b7af9139d63');\n",
              "var x = new MutationObserver(function (mutations, observer) {{\n",
              "        var display = window.getComputedStyle(gd).display;\n",
              "        if (!display || display === 'none') {{\n",
              "            console.log([gd, 'removed!']);\n",
              "            Plotly.purge(gd);\n",
              "            observer.disconnect();\n",
              "        }}\n",
              "}});\n",
              "\n",
              "// Listen for the removal of the full notebook cells\n",
              "var notebookContainer = gd.closest('#notebook-container');\n",
              "if (notebookContainer) {{\n",
              "    x.observe(notebookContainer, {childList: true});\n",
              "}}\n",
              "\n",
              "// Listen for the clearing of the current output cell\n",
              "var outputEl = gd.closest('.output');\n",
              "if (outputEl) {{\n",
              "    x.observe(outputEl, {childList: true});\n",
              "}}\n",
              "\n",
              "                        })\n",
              "                };\n",
              "                \n",
              "            </script>\n",
              "        </div>\n",
              "</body>\n",
              "</html>"
            ]
          },
          "metadata": {}
        }
      ]
    },
    {
      "cell_type": "markdown",
      "metadata": {
        "id": "26NeUbbRDU2u"
      },
      "source": [
        "Conclusion:- \n",
        "\n",
        "The majority of the people  visiting the City Hotel and the Resort Hotel are native to **\"Portugal\"**  with the total person count of 21k."
      ]
    },
    {
      "cell_type": "markdown",
      "metadata": {
        "id": "YI1RNQeKMGLP"
      },
      "source": [
        "#Data Preprocessing :-\n",
        "\n",
        "The next step after EDA comes Data preprocessing. Here, we will play with columns and will remove the columns that are not necessary  for training the model. "
      ]
    },
    {
      "cell_type": "code",
      "metadata": {
        "id": "mzCphrciWfZh",
        "colab": {
          "base_uri": "https://localhost:8080/",
          "height": 313
        },
        "outputId": "d6274781-1867-47f7-f081-36ebf7524beb"
      },
      "source": [
        "Data.head(5)"
      ],
      "execution_count": 33,
      "outputs": [
        {
          "output_type": "execute_result",
          "data": {
            "text/html": [
              "<div>\n",
              "<style scoped>\n",
              "    .dataframe tbody tr th:only-of-type {\n",
              "        vertical-align: middle;\n",
              "    }\n",
              "\n",
              "    .dataframe tbody tr th {\n",
              "        vertical-align: top;\n",
              "    }\n",
              "\n",
              "    .dataframe thead th {\n",
              "        text-align: right;\n",
              "    }\n",
              "</style>\n",
              "<table border=\"1\" class=\"dataframe\">\n",
              "  <thead>\n",
              "    <tr style=\"text-align: right;\">\n",
              "      <th></th>\n",
              "      <th>Name</th>\n",
              "      <th>Canceled</th>\n",
              "      <th>LeadTime</th>\n",
              "      <th>ArrivalYear</th>\n",
              "      <th>ArrivalMonth</th>\n",
              "      <th>ArrivalWeek</th>\n",
              "      <th>ArrivingDay</th>\n",
              "      <th>WeekendStays</th>\n",
              "      <th>WeekdayStays</th>\n",
              "      <th>Adults</th>\n",
              "      <th>Children</th>\n",
              "      <th>Babies</th>\n",
              "      <th>Meal</th>\n",
              "      <th>Country</th>\n",
              "      <th>Segment</th>\n",
              "      <th>Distribution_Channel</th>\n",
              "      <th>RepeatGuest</th>\n",
              "      <th>PreviousCancel</th>\n",
              "      <th>PreviousBook</th>\n",
              "      <th>Booked_RoomType</th>\n",
              "      <th>Assigned_RoomType</th>\n",
              "      <th>ChangedBooking</th>\n",
              "      <th>DepositType</th>\n",
              "      <th>WaitingDays</th>\n",
              "      <th>CustomerType</th>\n",
              "      <th>ADR</th>\n",
              "      <th>ParkingSpace</th>\n",
              "      <th>SpecialRequests</th>\n",
              "      <th>Status</th>\n",
              "      <th>ReservationDate</th>\n",
              "      <th>SpecialRequests</th>\n",
              "      <th>Total_Guests</th>\n",
              "    </tr>\n",
              "  </thead>\n",
              "  <tbody>\n",
              "    <tr>\n",
              "      <th>0</th>\n",
              "      <td>Resort Hotel</td>\n",
              "      <td>0</td>\n",
              "      <td>200</td>\n",
              "      <td>2015</td>\n",
              "      <td>July</td>\n",
              "      <td>27</td>\n",
              "      <td>1</td>\n",
              "      <td>0</td>\n",
              "      <td>0</td>\n",
              "      <td>2</td>\n",
              "      <td>0.0</td>\n",
              "      <td>0</td>\n",
              "      <td>BB</td>\n",
              "      <td>PRT</td>\n",
              "      <td>Direct</td>\n",
              "      <td>Direct</td>\n",
              "      <td>0</td>\n",
              "      <td>0</td>\n",
              "      <td>0</td>\n",
              "      <td>C</td>\n",
              "      <td>C</td>\n",
              "      <td>3</td>\n",
              "      <td>No Deposit</td>\n",
              "      <td>0</td>\n",
              "      <td>Transient</td>\n",
              "      <td>0.0</td>\n",
              "      <td>0</td>\n",
              "      <td>0</td>\n",
              "      <td>Check-Out</td>\n",
              "      <td>2015-07-01</td>\n",
              "      <td>NaN</td>\n",
              "      <td>2.0</td>\n",
              "    </tr>\n",
              "    <tr>\n",
              "      <th>1</th>\n",
              "      <td>Resort Hotel</td>\n",
              "      <td>0</td>\n",
              "      <td>200</td>\n",
              "      <td>2015</td>\n",
              "      <td>July</td>\n",
              "      <td>27</td>\n",
              "      <td>1</td>\n",
              "      <td>0</td>\n",
              "      <td>0</td>\n",
              "      <td>2</td>\n",
              "      <td>0.0</td>\n",
              "      <td>0</td>\n",
              "      <td>BB</td>\n",
              "      <td>PRT</td>\n",
              "      <td>Direct</td>\n",
              "      <td>Direct</td>\n",
              "      <td>0</td>\n",
              "      <td>0</td>\n",
              "      <td>0</td>\n",
              "      <td>C</td>\n",
              "      <td>C</td>\n",
              "      <td>4</td>\n",
              "      <td>No Deposit</td>\n",
              "      <td>0</td>\n",
              "      <td>Transient</td>\n",
              "      <td>0.0</td>\n",
              "      <td>0</td>\n",
              "      <td>0</td>\n",
              "      <td>Check-Out</td>\n",
              "      <td>2015-07-01</td>\n",
              "      <td>NaN</td>\n",
              "      <td>2.0</td>\n",
              "    </tr>\n",
              "    <tr>\n",
              "      <th>2</th>\n",
              "      <td>Resort Hotel</td>\n",
              "      <td>0</td>\n",
              "      <td>7</td>\n",
              "      <td>2015</td>\n",
              "      <td>July</td>\n",
              "      <td>27</td>\n",
              "      <td>1</td>\n",
              "      <td>0</td>\n",
              "      <td>1</td>\n",
              "      <td>1</td>\n",
              "      <td>0.0</td>\n",
              "      <td>0</td>\n",
              "      <td>BB</td>\n",
              "      <td>GBR</td>\n",
              "      <td>Direct</td>\n",
              "      <td>Direct</td>\n",
              "      <td>0</td>\n",
              "      <td>0</td>\n",
              "      <td>0</td>\n",
              "      <td>A</td>\n",
              "      <td>C</td>\n",
              "      <td>0</td>\n",
              "      <td>No Deposit</td>\n",
              "      <td>0</td>\n",
              "      <td>Transient</td>\n",
              "      <td>75.0</td>\n",
              "      <td>0</td>\n",
              "      <td>0</td>\n",
              "      <td>Check-Out</td>\n",
              "      <td>2015-07-02</td>\n",
              "      <td>NaN</td>\n",
              "      <td>1.0</td>\n",
              "    </tr>\n",
              "    <tr>\n",
              "      <th>3</th>\n",
              "      <td>Resort Hotel</td>\n",
              "      <td>0</td>\n",
              "      <td>13</td>\n",
              "      <td>2015</td>\n",
              "      <td>July</td>\n",
              "      <td>27</td>\n",
              "      <td>1</td>\n",
              "      <td>0</td>\n",
              "      <td>1</td>\n",
              "      <td>1</td>\n",
              "      <td>0.0</td>\n",
              "      <td>0</td>\n",
              "      <td>BB</td>\n",
              "      <td>GBR</td>\n",
              "      <td>Corporate</td>\n",
              "      <td>Corporate</td>\n",
              "      <td>0</td>\n",
              "      <td>0</td>\n",
              "      <td>0</td>\n",
              "      <td>A</td>\n",
              "      <td>A</td>\n",
              "      <td>0</td>\n",
              "      <td>No Deposit</td>\n",
              "      <td>0</td>\n",
              "      <td>Transient</td>\n",
              "      <td>75.0</td>\n",
              "      <td>0</td>\n",
              "      <td>0</td>\n",
              "      <td>Check-Out</td>\n",
              "      <td>2015-07-02</td>\n",
              "      <td>NaN</td>\n",
              "      <td>1.0</td>\n",
              "    </tr>\n",
              "    <tr>\n",
              "      <th>4</th>\n",
              "      <td>Resort Hotel</td>\n",
              "      <td>0</td>\n",
              "      <td>14</td>\n",
              "      <td>2015</td>\n",
              "      <td>July</td>\n",
              "      <td>27</td>\n",
              "      <td>1</td>\n",
              "      <td>0</td>\n",
              "      <td>2</td>\n",
              "      <td>2</td>\n",
              "      <td>0.0</td>\n",
              "      <td>0</td>\n",
              "      <td>BB</td>\n",
              "      <td>GBR</td>\n",
              "      <td>Online TA</td>\n",
              "      <td>TA/TO</td>\n",
              "      <td>0</td>\n",
              "      <td>0</td>\n",
              "      <td>0</td>\n",
              "      <td>A</td>\n",
              "      <td>A</td>\n",
              "      <td>0</td>\n",
              "      <td>No Deposit</td>\n",
              "      <td>0</td>\n",
              "      <td>Transient</td>\n",
              "      <td>98.0</td>\n",
              "      <td>0</td>\n",
              "      <td>1</td>\n",
              "      <td>Check-Out</td>\n",
              "      <td>2015-07-03</td>\n",
              "      <td>NaN</td>\n",
              "      <td>2.0</td>\n",
              "    </tr>\n",
              "  </tbody>\n",
              "</table>\n",
              "</div>"
            ],
            "text/plain": [
              "           Name  Canceled  LeadTime  ArrivalYear ArrivalMonth  ArrivalWeek  \\\n",
              "0  Resort Hotel         0       200         2015         July           27   \n",
              "1  Resort Hotel         0       200         2015         July           27   \n",
              "2  Resort Hotel         0         7         2015         July           27   \n",
              "3  Resort Hotel         0        13         2015         July           27   \n",
              "4  Resort Hotel         0        14         2015         July           27   \n",
              "\n",
              "   ArrivingDay  WeekendStays  WeekdayStays  Adults  Children  Babies Meal  \\\n",
              "0            1             0             0       2       0.0       0   BB   \n",
              "1            1             0             0       2       0.0       0   BB   \n",
              "2            1             0             1       1       0.0       0   BB   \n",
              "3            1             0             1       1       0.0       0   BB   \n",
              "4            1             0             2       2       0.0       0   BB   \n",
              "\n",
              "  Country    Segment Distribution_Channel  RepeatGuest  PreviousCancel  \\\n",
              "0     PRT     Direct               Direct            0               0   \n",
              "1     PRT     Direct               Direct            0               0   \n",
              "2     GBR     Direct               Direct            0               0   \n",
              "3     GBR  Corporate            Corporate            0               0   \n",
              "4     GBR  Online TA                TA/TO            0               0   \n",
              "\n",
              "   PreviousBook Booked_RoomType Assigned_RoomType  ChangedBooking DepositType  \\\n",
              "0             0               C                 C               3  No Deposit   \n",
              "1             0               C                 C               4  No Deposit   \n",
              "2             0               A                 C               0  No Deposit   \n",
              "3             0               A                 A               0  No Deposit   \n",
              "4             0               A                 A               0  No Deposit   \n",
              "\n",
              "   WaitingDays CustomerType   ADR  ParkingSpace  SpecialRequests     Status  \\\n",
              "0            0    Transient   0.0             0                0  Check-Out   \n",
              "1            0    Transient   0.0             0                0  Check-Out   \n",
              "2            0    Transient  75.0             0                0  Check-Out   \n",
              "3            0    Transient  75.0             0                0  Check-Out   \n",
              "4            0    Transient  98.0             0                1  Check-Out   \n",
              "\n",
              "  ReservationDate  SpecialRequests   Total_Guests  \n",
              "0      2015-07-01               NaN           2.0  \n",
              "1      2015-07-01               NaN           2.0  \n",
              "2      2015-07-02               NaN           1.0  \n",
              "3      2015-07-02               NaN           1.0  \n",
              "4      2015-07-03               NaN           2.0  "
            ]
          },
          "metadata": {},
          "execution_count": 33
        }
      ]
    },
    {
      "cell_type": "code",
      "metadata": {
        "id": "XO07Mn5HP4r6"
      },
      "source": [
        "# Removing the unnecessary columns\n",
        "Data.drop(columns = [\"ReservationDate\",\"RepeatGuest\",\n",
        "\"PreviousCancel\",\n",
        "\"PreviousBook\",\"Status\" ],inplace = True ,axis = 1)"
      ],
      "execution_count": 34,
      "outputs": []
    },
    {
      "cell_type": "code",
      "metadata": {
        "id": "BEMrmOL1S-QM"
      },
      "source": [
        "#creating a new column which combines Arrival year, date and month.\n",
        "Data['ArrivalDate'] = pd.to_datetime(Data.ArrivalYear.astype(str) + '/' + Data.ArrivalMonth.astype(str) + '/' + Data.ArrivingDay.astype(str))"
      ],
      "execution_count": 35,
      "outputs": []
    },
    {
      "cell_type": "code",
      "metadata": {
        "id": "PUGVkMdATOs7"
      },
      "source": [
        "Data.drop(columns=[\"ArrivalYear\", \"ArrivalMonth\", \"ArrivingDay\", \"ArrivalWeek\"],\n",
        "            inplace=True, axis=1)\n",
        "Data.drop(columns = [\"SpecialRequests\"],inplace = True ,axis = 1)"
      ],
      "execution_count": 36,
      "outputs": []
    },
    {
      "cell_type": "code",
      "metadata": {
        "id": "DmfQ1_I6TSVb",
        "colab": {
          "base_uri": "https://localhost:8080/"
        },
        "outputId": "f97e734d-2a63-4b0e-e9f8-6059f31b990e"
      },
      "source": [
        "# Rows and Columns\n",
        "Data.info()"
      ],
      "execution_count": 39,
      "outputs": [
        {
          "output_type": "stream",
          "name": "stdout",
          "text": [
            "<class 'pandas.core.frame.DataFrame'>\n",
            "Int64Index: 118731 entries, 0 to 119389\n",
            "Data columns (total 23 columns):\n",
            " #   Column                Non-Null Count   Dtype         \n",
            "---  ------                --------------   -----         \n",
            " 0   Name                  118731 non-null  object        \n",
            " 1   Canceled              118731 non-null  int64         \n",
            " 2   LeadTime              118731 non-null  int64         \n",
            " 3   WeekendStays          118731 non-null  int64         \n",
            " 4   WeekdayStays          118731 non-null  int64         \n",
            " 5   Adults                118731 non-null  int64         \n",
            " 6   Children              118731 non-null  float64       \n",
            " 7   Babies                118731 non-null  int64         \n",
            " 8   Meal                  118731 non-null  object        \n",
            " 9   Country               118731 non-null  object        \n",
            " 10  Segment               118731 non-null  object        \n",
            " 11  Distribution_Channel  118731 non-null  object        \n",
            " 12  Booked_RoomType       118731 non-null  object        \n",
            " 13  Assigned_RoomType     118731 non-null  object        \n",
            " 14  ChangedBooking        118731 non-null  int64         \n",
            " 15  DepositType           118731 non-null  object        \n",
            " 16  WaitingDays           118731 non-null  int64         \n",
            " 17  CustomerType          118731 non-null  object        \n",
            " 18  ADR                   118731 non-null  float64       \n",
            " 19  ParkingSpace          118731 non-null  int64         \n",
            " 20  SpecialRequests       2861 non-null    float64       \n",
            " 21  Total_Guests          118731 non-null  float64       \n",
            " 22  ArrivalDate           118731 non-null  datetime64[ns]\n",
            "dtypes: datetime64[ns](1), float64(4), int64(9), object(9)\n",
            "memory usage: 21.7+ MB\n"
          ]
        }
      ]
    },
    {
      "cell_type": "markdown",
      "metadata": {
        "id": "HlC1vgN8cTmK"
      },
      "source": [
        "#**Data Modelling**"
      ]
    },
    {
      "cell_type": "code",
      "metadata": {
        "id": "7xfECO1RZDnZ"
      },
      "source": [
        "#identifying numerical and categorical variables\n",
        "numvar = ['LeadTime', 'WeekendStays', 'WeekdayStays','Adults', 'Babies','ADR','ParkingSpace','Total_Guests']\n",
        "catvar = ['Country','Children', 'Babies', 'Meal', 'Distribution_Channel']"
      ],
      "execution_count": 40,
      "outputs": []
    },
    {
      "cell_type": "code",
      "metadata": {
        "id": "DfBNdMfOaqRY"
      },
      "source": [
        "#Encoding the columns\n",
        "from sklearn import preprocessing \n",
        "label_encoder = preprocessing.LabelEncoder()\n",
        "\n",
        "for i in catvar :\n",
        "    Data[i] = label_encoder.fit_transform(Data[i])"
      ],
      "execution_count": 41,
      "outputs": []
    },
    {
      "cell_type": "code",
      "metadata": {
        "id": "b-G_t3q0cBbT"
      },
      "source": [
        "from sklearn.model_selection import train_test_split \n",
        "from sklearn.metrics import confusion_matrix\n",
        "from sklearn.metrics import classification_report\n",
        "from sklearn.metrics import accuracy_score\n",
        "from sklearn.linear_model import LogisticRegression\n",
        "from sklearn.ensemble import RandomForestRegressor\n",
        "from sklearn.ensemble import RandomForestClassifier "
      ],
      "execution_count": 42,
      "outputs": []
    },
    {
      "cell_type": "code",
      "metadata": {
        "id": "Yb1XPkqbcFwV"
      },
      "source": [
        "features = numvar + catvar\n",
        "X=Data[features]\n",
        "y=Data['Canceled']\n",
        "X_train, X_test, y_train, y_test = train_test_split(X, y, test_size=0.25, random_state=0)"
      ],
      "execution_count": 43,
      "outputs": []
    },
    {
      "cell_type": "code",
      "metadata": {
        "colab": {
          "base_uri": "https://localhost:8080/"
        },
        "id": "sKPuERR-cQ_-",
        "outputId": "1499c2fc-26b0-46a9-d506-2d223bba23ca"
      },
      "source": [
        "random_forest = RandomForestRegressor(n_estimators = 200, random_state = 42)\n",
        "random_forest.fit(X_train,y_train)\n",
        "y_pred_random_forest = random_forest.predict(X_test)\n",
        "print(confusion_matrix(y_test,y_pred_random_forest.round()))\n",
        "print(classification_report(y_test,y_pred_random_forest.round()))"
      ],
      "execution_count": 44,
      "outputs": [
        {
          "output_type": "stream",
          "name": "stdout",
          "text": [
            "[[16596  1930]\n",
            " [ 2995  8162]]\n",
            "              precision    recall  f1-score   support\n",
            "\n",
            "           0       0.85      0.90      0.87     18526\n",
            "           1       0.81      0.73      0.77     11157\n",
            "\n",
            "    accuracy                           0.83     29683\n",
            "   macro avg       0.83      0.81      0.82     29683\n",
            "weighted avg       0.83      0.83      0.83     29683\n",
            "\n"
          ]
        }
      ]
    },
    {
      "cell_type": "markdown",
      "metadata": {
        "id": "tCeSlDXPcsoA"
      },
      "source": [
        "Conclusion:-\n",
        "Accuracy:- 83%"
      ]
    },
    {
      "cell_type": "code",
      "metadata": {
        "colab": {
          "base_uri": "https://localhost:8080/"
        },
        "id": "y0xBNUtgcyDs",
        "outputId": "f699f54e-c236-4593-a813-f032c729fc39"
      },
      "source": [
        "#random forest classifier model\n",
        "\n",
        "def model(algorithm, X_train, X_test, y_train, y_test):\n",
        "    alg = algorithm\n",
        "    alg_model = alg.fit(X_train, y_train)\n",
        "    global y_prob, y_pred\n",
        "    y_prob = alg.predict_proba(X_test)[:,1]\n",
        "    y_pred = alg_model.predict(X_test)\n",
        "\n",
        "    print('Accuracy Score: {}\\n\\nConfusion Matrix:\\n {}'\n",
        "      .format(accuracy_score(y_test,y_pred), confusion_matrix(y_test,y_pred)))\n",
        "print('Model: Random Forest\\n')\n",
        "model(RandomForestClassifier(), X_train, X_test, y_train, y_test)"
      ],
      "execution_count": 45,
      "outputs": [
        {
          "output_type": "stream",
          "name": "stdout",
          "text": [
            "Model: Random Forest\n",
            "\n",
            "Accuracy Score: 0.8321935114375232\n",
            "\n",
            "Confusion Matrix:\n",
            " [[16673  1853]\n",
            " [ 3128  8029]]\n"
          ]
        }
      ]
    },
    {
      "cell_type": "markdown",
      "metadata": {
        "id": "7zK9a-JNdWvQ"
      },
      "source": [
        "Accuracy : 83%"
      ]
    },
    {
      "cell_type": "markdown",
      "metadata": {
        "id": "X0MA1eWEdacz"
      },
      "source": [
        "References:-\n",
        "\n",
        "1)https://www.kaggle.com/jessemostipak/hotel-booking-demand\n",
        "\n",
        "2)https://www.kaggle.com/avi111297/complete-eda-pred-cancel-of-booking-94-21-acc\n",
        "\n",
        "3)https://www.kaggle.com/duygut/eda-booking-cancelation-prediction\n",
        "\n",
        "4)https://www.geeksforgeeks.org/plotting-histogram-in-python-using-matplotlib/\n",
        "\n",
        "5)https://stackoverflow.com/questions/26660313/pandas-location-of-a-row-with-error\n",
        "\n",
        "6)https://www.kaggle.com/learn/data-cleaning\n",
        "\n",
        "7)https://www.kaggle.com/learn/data-visualization\n",
        "\n",
        "8)https://plotly.com/python/choropleth-maps/\n",
        "\n",
        "9)https://www.w3schools.com/python/matplotlib_pie_charts.asp\n",
        "\n",
        "10)https://www.kaggle.com/shrutidandagi/hotel-booking-demand-eda-data-visualisation\n",
        "\n",
        "11)https://www.tutorialspoint.com/matplotlib/matplotlib_bar_plot.htm\n",
        "\n",
        "12)https://www.kaggle.com/duygut/eda-booking-cancelation-prediction\n",
        "\n",
        "13)https://scikit-learn.org/stable/modules/generated/sklearn.ensemble.RandomForestRegressor.html\n",
        "\n",
        "14)https://towardsdatascience.com/understanding-random-forest-58381e0602d2\n",
        "\n",
        "15)https://scikit-learn.org/stable/modules/generated/sklearn.ensemble.RandomForestClassifier.html\n",
        "\n",
        "16)https://seaborn.pydata.org/tutorial.html\n",
        "\n",
        "17)https://www.kaggle.com/learn/pandas\n",
        "\n",
        "18)https://pandas.pydata.org/docs/reference/api/pandas.DataFrame.reset_index.html\n",
        "\n",
        "19)https://www.geeksforgeeks.org/python-pandas-dataframe-astype/\n",
        "\n",
        "20)https://www.geeksforgeeks.org/matplotlib-pyplot-legend-in-python/#:~:text=pyplot.-,legend(),a%20legend%20on%20the%20axes.&text=The%20strings%20'upper%20left'%2C,corner%20of%20the%20axes%2Ffigure.\n",
        "\n",
        "21)https://stackoverflow.com/questions/17666075/python-pandas-groupby-result\n",
        "\n",
        "22)https://stackoverflow.com/questions/36921951/truth-value-of-a-series-is-ambiguous-use-a-empty-a-bool-a-item-a-any-o\n",
        "\n",
        "23)https://statisticsbyjim.com/basics/remove-outliers/#:~:text=It's%20essential%20to%20understand%20how,data%2C%20which%20decreases%20statistical%20power.\n",
        "\n",
        "24)https://www.geeksforgeeks.org/matplotlib-pyplot-subplot-function-in-python/#:~:text=Parameters%20%3A,%2C%20str%7D%2C%20optional%5D. "
      ]
    }
  ]
}